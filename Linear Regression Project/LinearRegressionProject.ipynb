{
 "cells": [
  {
   "cell_type": "markdown",
   "metadata": {},
   "source": [
    "# Import library and data"
   ]
  },
  {
   "cell_type": "code",
   "execution_count": 1,
   "metadata": {},
   "outputs": [],
   "source": [
    "import numpy as np\n",
    "import pandas as pd\n",
    "import matplotlib.pyplot as plt\n",
    "import seaborn as sns\n",
    "sns.set()"
   ]
  },
  {
   "cell_type": "code",
   "execution_count": 2,
   "metadata": {},
   "outputs": [],
   "source": [
    "raw_data = pd.read_csv('data.csv')"
   ]
  },
  {
   "cell_type": "code",
   "execution_count": 3,
   "metadata": {},
   "outputs": [
    {
     "data": {
      "text/html": [
       "<div>\n",
       "<style scoped>\n",
       "    .dataframe tbody tr th:only-of-type {\n",
       "        vertical-align: middle;\n",
       "    }\n",
       "\n",
       "    .dataframe tbody tr th {\n",
       "        vertical-align: top;\n",
       "    }\n",
       "\n",
       "    .dataframe thead th {\n",
       "        text-align: right;\n",
       "    }\n",
       "</style>\n",
       "<table border=\"1\" class=\"dataframe\">\n",
       "  <thead>\n",
       "    <tr style=\"text-align: right;\">\n",
       "      <th></th>\n",
       "      <th>Brand</th>\n",
       "      <th>Price</th>\n",
       "      <th>Body</th>\n",
       "      <th>Mileage</th>\n",
       "      <th>EngineV</th>\n",
       "      <th>Engine Type</th>\n",
       "      <th>Registration</th>\n",
       "      <th>Year</th>\n",
       "      <th>Model</th>\n",
       "    </tr>\n",
       "  </thead>\n",
       "  <tbody>\n",
       "    <tr>\n",
       "      <th>0</th>\n",
       "      <td>BMW</td>\n",
       "      <td>4200.0</td>\n",
       "      <td>sedan</td>\n",
       "      <td>277</td>\n",
       "      <td>2.0</td>\n",
       "      <td>Petrol</td>\n",
       "      <td>yes</td>\n",
       "      <td>1991</td>\n",
       "      <td>320</td>\n",
       "    </tr>\n",
       "    <tr>\n",
       "      <th>1</th>\n",
       "      <td>Mercedes-Benz</td>\n",
       "      <td>7900.0</td>\n",
       "      <td>van</td>\n",
       "      <td>427</td>\n",
       "      <td>2.9</td>\n",
       "      <td>Diesel</td>\n",
       "      <td>yes</td>\n",
       "      <td>1999</td>\n",
       "      <td>Sprinter 212</td>\n",
       "    </tr>\n",
       "    <tr>\n",
       "      <th>2</th>\n",
       "      <td>Mercedes-Benz</td>\n",
       "      <td>13300.0</td>\n",
       "      <td>sedan</td>\n",
       "      <td>358</td>\n",
       "      <td>5.0</td>\n",
       "      <td>Gas</td>\n",
       "      <td>yes</td>\n",
       "      <td>2003</td>\n",
       "      <td>S 500</td>\n",
       "    </tr>\n",
       "    <tr>\n",
       "      <th>3</th>\n",
       "      <td>Audi</td>\n",
       "      <td>23000.0</td>\n",
       "      <td>crossover</td>\n",
       "      <td>240</td>\n",
       "      <td>4.2</td>\n",
       "      <td>Petrol</td>\n",
       "      <td>yes</td>\n",
       "      <td>2007</td>\n",
       "      <td>Q7</td>\n",
       "    </tr>\n",
       "    <tr>\n",
       "      <th>4</th>\n",
       "      <td>Toyota</td>\n",
       "      <td>18300.0</td>\n",
       "      <td>crossover</td>\n",
       "      <td>120</td>\n",
       "      <td>2.0</td>\n",
       "      <td>Petrol</td>\n",
       "      <td>yes</td>\n",
       "      <td>2011</td>\n",
       "      <td>Rav 4</td>\n",
       "    </tr>\n",
       "  </tbody>\n",
       "</table>\n",
       "</div>"
      ],
      "text/plain": [
       "           Brand    Price       Body  Mileage  EngineV Engine Type  \\\n",
       "0            BMW   4200.0      sedan      277      2.0      Petrol   \n",
       "1  Mercedes-Benz   7900.0        van      427      2.9      Diesel   \n",
       "2  Mercedes-Benz  13300.0      sedan      358      5.0         Gas   \n",
       "3           Audi  23000.0  crossover      240      4.2      Petrol   \n",
       "4         Toyota  18300.0  crossover      120      2.0      Petrol   \n",
       "\n",
       "  Registration  Year         Model  \n",
       "0          yes  1991           320  \n",
       "1          yes  1999  Sprinter 212  \n",
       "2          yes  2003         S 500  \n",
       "3          yes  2007            Q7  \n",
       "4          yes  2011         Rav 4  "
      ]
     },
     "execution_count": 3,
     "metadata": {},
     "output_type": "execute_result"
    }
   ],
   "source": [
    "raw_data.head()"
   ]
  },
  {
   "cell_type": "markdown",
   "metadata": {},
   "source": [
    "# Dealing with missing values"
   ]
  },
  {
   "cell_type": "code",
   "execution_count": 4,
   "metadata": {},
   "outputs": [
    {
     "data": {
      "text/plain": [
       "Brand             0\n",
       "Price           172\n",
       "Body              0\n",
       "Mileage           0\n",
       "EngineV         150\n",
       "Engine Type       0\n",
       "Registration      0\n",
       "Year              0\n",
       "Model             0\n",
       "dtype: int64"
      ]
     },
     "execution_count": 4,
     "metadata": {},
     "output_type": "execute_result"
    }
   ],
   "source": [
    "raw_data.isnull().sum()"
   ]
  },
  {
   "cell_type": "code",
   "execution_count": 5,
   "metadata": {},
   "outputs": [],
   "source": [
    "data_no_mv = raw_data.dropna(axis = 0)"
   ]
  },
  {
   "cell_type": "code",
   "execution_count": 6,
   "metadata": {
    "scrolled": true
   },
   "outputs": [
    {
     "data": {
      "text/html": [
       "<div>\n",
       "<style scoped>\n",
       "    .dataframe tbody tr th:only-of-type {\n",
       "        vertical-align: middle;\n",
       "    }\n",
       "\n",
       "    .dataframe tbody tr th {\n",
       "        vertical-align: top;\n",
       "    }\n",
       "\n",
       "    .dataframe thead th {\n",
       "        text-align: right;\n",
       "    }\n",
       "</style>\n",
       "<table border=\"1\" class=\"dataframe\">\n",
       "  <thead>\n",
       "    <tr style=\"text-align: right;\">\n",
       "      <th></th>\n",
       "      <th>Brand</th>\n",
       "      <th>Price</th>\n",
       "      <th>Body</th>\n",
       "      <th>Mileage</th>\n",
       "      <th>EngineV</th>\n",
       "      <th>Engine Type</th>\n",
       "      <th>Registration</th>\n",
       "      <th>Year</th>\n",
       "      <th>Model</th>\n",
       "    </tr>\n",
       "  </thead>\n",
       "  <tbody>\n",
       "    <tr>\n",
       "      <th>count</th>\n",
       "      <td>4025</td>\n",
       "      <td>4025.000000</td>\n",
       "      <td>4025</td>\n",
       "      <td>4025.000000</td>\n",
       "      <td>4025.000000</td>\n",
       "      <td>4025</td>\n",
       "      <td>4025</td>\n",
       "      <td>4025.000000</td>\n",
       "      <td>4025</td>\n",
       "    </tr>\n",
       "    <tr>\n",
       "      <th>unique</th>\n",
       "      <td>7</td>\n",
       "      <td>NaN</td>\n",
       "      <td>6</td>\n",
       "      <td>NaN</td>\n",
       "      <td>NaN</td>\n",
       "      <td>4</td>\n",
       "      <td>2</td>\n",
       "      <td>NaN</td>\n",
       "      <td>306</td>\n",
       "    </tr>\n",
       "    <tr>\n",
       "      <th>top</th>\n",
       "      <td>Volkswagen</td>\n",
       "      <td>NaN</td>\n",
       "      <td>sedan</td>\n",
       "      <td>NaN</td>\n",
       "      <td>NaN</td>\n",
       "      <td>Diesel</td>\n",
       "      <td>yes</td>\n",
       "      <td>NaN</td>\n",
       "      <td>E-Class</td>\n",
       "    </tr>\n",
       "    <tr>\n",
       "      <th>freq</th>\n",
       "      <td>880</td>\n",
       "      <td>NaN</td>\n",
       "      <td>1534</td>\n",
       "      <td>NaN</td>\n",
       "      <td>NaN</td>\n",
       "      <td>1861</td>\n",
       "      <td>3654</td>\n",
       "      <td>NaN</td>\n",
       "      <td>188</td>\n",
       "    </tr>\n",
       "    <tr>\n",
       "      <th>mean</th>\n",
       "      <td>NaN</td>\n",
       "      <td>19552.308065</td>\n",
       "      <td>NaN</td>\n",
       "      <td>163.572174</td>\n",
       "      <td>2.764586</td>\n",
       "      <td>NaN</td>\n",
       "      <td>NaN</td>\n",
       "      <td>2006.379627</td>\n",
       "      <td>NaN</td>\n",
       "    </tr>\n",
       "    <tr>\n",
       "      <th>std</th>\n",
       "      <td>NaN</td>\n",
       "      <td>25815.734988</td>\n",
       "      <td>NaN</td>\n",
       "      <td>103.394703</td>\n",
       "      <td>4.935941</td>\n",
       "      <td>NaN</td>\n",
       "      <td>NaN</td>\n",
       "      <td>6.695595</td>\n",
       "      <td>NaN</td>\n",
       "    </tr>\n",
       "    <tr>\n",
       "      <th>min</th>\n",
       "      <td>NaN</td>\n",
       "      <td>600.000000</td>\n",
       "      <td>NaN</td>\n",
       "      <td>0.000000</td>\n",
       "      <td>0.600000</td>\n",
       "      <td>NaN</td>\n",
       "      <td>NaN</td>\n",
       "      <td>1969.000000</td>\n",
       "      <td>NaN</td>\n",
       "    </tr>\n",
       "    <tr>\n",
       "      <th>25%</th>\n",
       "      <td>NaN</td>\n",
       "      <td>6999.000000</td>\n",
       "      <td>NaN</td>\n",
       "      <td>90.000000</td>\n",
       "      <td>1.800000</td>\n",
       "      <td>NaN</td>\n",
       "      <td>NaN</td>\n",
       "      <td>2003.000000</td>\n",
       "      <td>NaN</td>\n",
       "    </tr>\n",
       "    <tr>\n",
       "      <th>50%</th>\n",
       "      <td>NaN</td>\n",
       "      <td>11500.000000</td>\n",
       "      <td>NaN</td>\n",
       "      <td>158.000000</td>\n",
       "      <td>2.200000</td>\n",
       "      <td>NaN</td>\n",
       "      <td>NaN</td>\n",
       "      <td>2007.000000</td>\n",
       "      <td>NaN</td>\n",
       "    </tr>\n",
       "    <tr>\n",
       "      <th>75%</th>\n",
       "      <td>NaN</td>\n",
       "      <td>21900.000000</td>\n",
       "      <td>NaN</td>\n",
       "      <td>230.000000</td>\n",
       "      <td>3.000000</td>\n",
       "      <td>NaN</td>\n",
       "      <td>NaN</td>\n",
       "      <td>2012.000000</td>\n",
       "      <td>NaN</td>\n",
       "    </tr>\n",
       "    <tr>\n",
       "      <th>max</th>\n",
       "      <td>NaN</td>\n",
       "      <td>300000.000000</td>\n",
       "      <td>NaN</td>\n",
       "      <td>980.000000</td>\n",
       "      <td>99.990000</td>\n",
       "      <td>NaN</td>\n",
       "      <td>NaN</td>\n",
       "      <td>2016.000000</td>\n",
       "      <td>NaN</td>\n",
       "    </tr>\n",
       "  </tbody>\n",
       "</table>\n",
       "</div>"
      ],
      "text/plain": [
       "             Brand          Price   Body      Mileage      EngineV  \\\n",
       "count         4025    4025.000000   4025  4025.000000  4025.000000   \n",
       "unique           7            NaN      6          NaN          NaN   \n",
       "top     Volkswagen            NaN  sedan          NaN          NaN   \n",
       "freq           880            NaN   1534          NaN          NaN   \n",
       "mean           NaN   19552.308065    NaN   163.572174     2.764586   \n",
       "std            NaN   25815.734988    NaN   103.394703     4.935941   \n",
       "min            NaN     600.000000    NaN     0.000000     0.600000   \n",
       "25%            NaN    6999.000000    NaN    90.000000     1.800000   \n",
       "50%            NaN   11500.000000    NaN   158.000000     2.200000   \n",
       "75%            NaN   21900.000000    NaN   230.000000     3.000000   \n",
       "max            NaN  300000.000000    NaN   980.000000    99.990000   \n",
       "\n",
       "       Engine Type Registration         Year    Model  \n",
       "count         4025         4025  4025.000000     4025  \n",
       "unique           4            2          NaN      306  \n",
       "top         Diesel          yes          NaN  E-Class  \n",
       "freq          1861         3654          NaN      188  \n",
       "mean           NaN          NaN  2006.379627      NaN  \n",
       "std            NaN          NaN     6.695595      NaN  \n",
       "min            NaN          NaN  1969.000000      NaN  \n",
       "25%            NaN          NaN  2003.000000      NaN  \n",
       "50%            NaN          NaN  2007.000000      NaN  \n",
       "75%            NaN          NaN  2012.000000      NaN  \n",
       "max            NaN          NaN  2016.000000      NaN  "
      ]
     },
     "execution_count": 6,
     "metadata": {},
     "output_type": "execute_result"
    }
   ],
   "source": [
    "data_no_mv.describe(include = 'all')"
   ]
  },
  {
   "cell_type": "markdown",
   "metadata": {},
   "source": [
    "# Dealing with outliers"
   ]
  },
  {
   "cell_type": "code",
   "execution_count": 7,
   "metadata": {},
   "outputs": [
    {
     "data": {
      "text/plain": [
       "<matplotlib.axes._subplots.AxesSubplot at 0x1b346bfc108>"
      ]
     },
     "execution_count": 7,
     "metadata": {},
     "output_type": "execute_result"
    },
    {
     "data": {
      "image/png": "[encoded data removed]",
      "text/plain": [
       "<Figure size 432x288 with 1 Axes>"
      ]
     },
     "metadata": {},
     "output_type": "display_data"
    }
   ],
   "source": [
    "sns.boxplot(data_no_mv['Price'])"
   ]
  },
  {
   "cell_type": "code",
   "execution_count": 8,
   "metadata": {},
   "outputs": [
    {
     "name": "stdout",
     "output_type": "stream",
     "text": [
      "-15352.5\n",
      "44251.5\n"
     ]
    }
   ],
   "source": [
    "Q1 = data_no_mv['Price'].quantile(0.25)\n",
    "Q3 = data_no_mv['Price'].quantile(0.75)\n",
    "IQR = Q3 - Q1\n",
    "lower = Q1 - 1.5*IQR\n",
    "upper = Q3 + 1.5*IQR\n",
    "print(lower)\n",
    "print(upper)"
   ]
  },
  {
   "cell_type": "code",
   "execution_count": 9,
   "metadata": {},
   "outputs": [],
   "source": [
    "data_no_mv = data_no_mv[data_no_mv['Price'] < upper]"
   ]
  },
  {
   "cell_type": "code",
   "execution_count": 10,
   "metadata": {},
   "outputs": [
    {
     "data": {
      "text/plain": [
       "<matplotlib.axes._subplots.AxesSubplot at 0x1b347363188>"
      ]
     },
     "execution_count": 10,
     "metadata": {},
     "output_type": "execute_result"
    },
    {
     "data": {
      "image/png": "[encoded data removed]",
      "text/plain": [
       "<Figure size 432x288 with 1 Axes>"
      ]
     },
     "metadata": {},
     "output_type": "display_data"
    }
   ],
   "source": [
    "sns.distplot(data_no_mv['Price'])"
   ]
  },
  {
   "cell_type": "code",
   "execution_count": 11,
   "metadata": {},
   "outputs": [
    {
     "data": {
      "text/plain": [
       "<matplotlib.axes._subplots.AxesSubplot at 0x1b347465cc8>"
      ]
     },
     "execution_count": 11,
     "metadata": {},
     "output_type": "execute_result"
    },
    {
     "data": {
      "image/png": "[encoded data removed]",
      "text/plain": [
       "<Figure size 432x288 with 1 Axes>"
      ]
     },
     "metadata": {},
     "output_type": "display_data"
    }
   ],
   "source": [
    "sns.boxplot(data_no_mv['Mileage'])"
   ]
  },
  {
   "cell_type": "code",
   "execution_count": 12,
   "metadata": {},
   "outputs": [
    {
     "name": "stdout",
     "output_type": "stream",
     "text": [
      "-87.0\n",
      "433.0\n"
     ]
    }
   ],
   "source": [
    "Q1 = data_no_mv['Mileage'].quantile(0.25)\n",
    "Q3 = data_no_mv['Mileage'].quantile(0.75)\n",
    "IQR = Q3 - Q1\n",
    "lower = Q1 - 1.5*IQR\n",
    "upper = Q3 + 1.5*IQR\n",
    "print(lower)\n",
    "print(upper)"
   ]
  },
  {
   "cell_type": "code",
   "execution_count": 13,
   "metadata": {},
   "outputs": [],
   "source": [
    "data_no_mv = data_no_mv[data_no_mv['Mileage'] < upper]"
   ]
  },
  {
   "cell_type": "code",
   "execution_count": 14,
   "metadata": {},
   "outputs": [
    {
     "data": {
      "text/plain": [
       "<matplotlib.axes._subplots.AxesSubplot at 0x1b3474c4348>"
      ]
     },
     "execution_count": 14,
     "metadata": {},
     "output_type": "execute_result"
    },
    {
     "data": {
      "image/png": "[encoded data removed]",
      "text/plain": [
       "<Figure size 432x288 with 1 Axes>"
      ]
     },
     "metadata": {},
     "output_type": "display_data"
    }
   ],
   "source": [
    "sns.distplot(data_no_mv['Mileage'])"
   ]
  },
  {
   "cell_type": "code",
   "execution_count": 15,
   "metadata": {},
   "outputs": [
    {
     "data": {
      "text/plain": [
       "<matplotlib.axes._subplots.AxesSubplot at 0x1b347586b08>"
      ]
     },
     "execution_count": 15,
     "metadata": {},
     "output_type": "execute_result"
    },
    {
     "data": {
      "image/png": "[encoded data removed]",
      "text/plain": [
       "<Figure size 432x288 with 1 Axes>"
      ]
     },
     "metadata": {},
     "output_type": "display_data"
    }
   ],
   "source": [
    "sns.boxplot(x = data_no_mv['EngineV'])"
   ]
  },
  {
   "cell_type": "code",
   "execution_count": 16,
   "metadata": {},
   "outputs": [
    {
     "name": "stdout",
     "output_type": "stream",
     "text": [
      "0.3000000000000005\n",
      "4.299999999999999\n"
     ]
    }
   ],
   "source": [
    "Q1 = data_no_mv['EngineV'].quantile(0.25)\n",
    "Q3 = data_no_mv['EngineV'].quantile(0.75)\n",
    "IQR = Q3 - Q1\n",
    "lower = Q1 - 1.5*IQR\n",
    "upper = Q3 + 1.5*IQR\n",
    "print(lower)\n",
    "print(upper)"
   ]
  },
  {
   "cell_type": "code",
   "execution_count": 17,
   "metadata": {},
   "outputs": [],
   "source": [
    "data_no_mv = data_no_mv[data_no_mv['EngineV'] < upper]"
   ]
  },
  {
   "cell_type": "code",
   "execution_count": 18,
   "metadata": {},
   "outputs": [
    {
     "data": {
      "text/plain": [
       "<matplotlib.axes._subplots.AxesSubplot at 0x1b3475dc4c8>"
      ]
     },
     "execution_count": 18,
     "metadata": {},
     "output_type": "execute_result"
    },
    {
     "data": {
      "image/png": "[encoded data removed]",
      "text/plain": [
       "<Figure size 432x288 with 1 Axes>"
      ]
     },
     "metadata": {},
     "output_type": "display_data"
    }
   ],
   "source": [
    "sns.distplot(data_no_mv['EngineV'])"
   ]
  },
  {
   "cell_type": "code",
   "execution_count": 19,
   "metadata": {},
   "outputs": [
    {
     "data": {
      "text/plain": [
       "<matplotlib.axes._subplots.AxesSubplot at 0x1b347672308>"
      ]
     },
     "execution_count": 19,
     "metadata": {},
     "output_type": "execute_result"
    },
    {
     "data": {
      "image/png": "[encoded data removed]",
      "text/plain": [
       "<Figure size 432x288 with 1 Axes>"
      ]
     },
     "metadata": {},
     "output_type": "display_data"
    }
   ],
   "source": [
    "sns.boxplot(x = data_no_mv['Year'])"
   ]
  },
  {
   "cell_type": "code",
   "execution_count": 20,
   "metadata": {},
   "outputs": [
    {
     "name": "stdout",
     "output_type": "stream",
     "text": [
      "2024.5\n",
      "1988.5\n"
     ]
    }
   ],
   "source": [
    "Q1 = data_no_mv['Year'].quantile(0.25)\n",
    "Q3 = data_no_mv['Year'].quantile(0.75)\n",
    "IQR = Q3 - Q1\n",
    "lower = Q1 - 1.5 * IQR\n",
    "upper = Q3 + 1.5 * IQR\n",
    "print(upper)\n",
    "print(lower)"
   ]
  },
  {
   "cell_type": "code",
   "execution_count": 21,
   "metadata": {},
   "outputs": [],
   "source": [
    "data_no_mv = data_no_mv[data_no_mv['Year'] > lower]"
   ]
  },
  {
   "cell_type": "code",
   "execution_count": 22,
   "metadata": {},
   "outputs": [
    {
     "data": {
      "text/plain": [
       "<matplotlib.axes._subplots.AxesSubplot at 0x1b347711f88>"
      ]
     },
     "execution_count": 22,
     "metadata": {},
     "output_type": "execute_result"
    },
    {
     "data": {
      "image/png": "[encoded data removed]",
      "text/plain": [
       "<Figure size 432x288 with 1 Axes>"
      ]
     },
     "metadata": {},
     "output_type": "display_data"
    }
   ],
   "source": [
    "sns.distplot(data_no_mv['Year'])"
   ]
  },
  {
   "cell_type": "code",
   "execution_count": 23,
   "metadata": {},
   "outputs": [],
   "source": [
    "data_clean = data_no_mv.copy()"
   ]
  },
  {
   "cell_type": "code",
   "execution_count": 24,
   "metadata": {
    "scrolled": true
   },
   "outputs": [
    {
     "data": {
      "text/html": [
       "<div>\n",
       "<style scoped>\n",
       "    .dataframe tbody tr th:only-of-type {\n",
       "        vertical-align: middle;\n",
       "    }\n",
       "\n",
       "    .dataframe tbody tr th {\n",
       "        vertical-align: top;\n",
       "    }\n",
       "\n",
       "    .dataframe thead th {\n",
       "        text-align: right;\n",
       "    }\n",
       "</style>\n",
       "<table border=\"1\" class=\"dataframe\">\n",
       "  <thead>\n",
       "    <tr style=\"text-align: right;\">\n",
       "      <th></th>\n",
       "      <th>Brand</th>\n",
       "      <th>Price</th>\n",
       "      <th>Body</th>\n",
       "      <th>Mileage</th>\n",
       "      <th>EngineV</th>\n",
       "      <th>Engine Type</th>\n",
       "      <th>Registration</th>\n",
       "      <th>Year</th>\n",
       "      <th>Model</th>\n",
       "    </tr>\n",
       "  </thead>\n",
       "  <tbody>\n",
       "    <tr>\n",
       "      <th>count</th>\n",
       "      <td>3345</td>\n",
       "      <td>3345.000000</td>\n",
       "      <td>3345</td>\n",
       "      <td>3345.000000</td>\n",
       "      <td>3345.000000</td>\n",
       "      <td>3345</td>\n",
       "      <td>3345</td>\n",
       "      <td>3345.000000</td>\n",
       "      <td>3345</td>\n",
       "    </tr>\n",
       "    <tr>\n",
       "      <th>unique</th>\n",
       "      <td>7</td>\n",
       "      <td>NaN</td>\n",
       "      <td>6</td>\n",
       "      <td>NaN</td>\n",
       "      <td>NaN</td>\n",
       "      <td>4</td>\n",
       "      <td>2</td>\n",
       "      <td>NaN</td>\n",
       "      <td>232</td>\n",
       "    </tr>\n",
       "    <tr>\n",
       "      <th>top</th>\n",
       "      <td>Volkswagen</td>\n",
       "      <td>NaN</td>\n",
       "      <td>sedan</td>\n",
       "      <td>NaN</td>\n",
       "      <td>NaN</td>\n",
       "      <td>Diesel</td>\n",
       "      <td>yes</td>\n",
       "      <td>NaN</td>\n",
       "      <td>E-Class</td>\n",
       "    </tr>\n",
       "    <tr>\n",
       "      <th>freq</th>\n",
       "      <td>813</td>\n",
       "      <td>NaN</td>\n",
       "      <td>1296</td>\n",
       "      <td>NaN</td>\n",
       "      <td>NaN</td>\n",
       "      <td>1574</td>\n",
       "      <td>2989</td>\n",
       "      <td>NaN</td>\n",
       "      <td>175</td>\n",
       "    </tr>\n",
       "    <tr>\n",
       "      <th>mean</th>\n",
       "      <td>NaN</td>\n",
       "      <td>13099.139181</td>\n",
       "      <td>NaN</td>\n",
       "      <td>170.463677</td>\n",
       "      <td>2.228978</td>\n",
       "      <td>NaN</td>\n",
       "      <td>NaN</td>\n",
       "      <td>2006.217937</td>\n",
       "      <td>NaN</td>\n",
       "    </tr>\n",
       "    <tr>\n",
       "      <th>std</th>\n",
       "      <td>NaN</td>\n",
       "      <td>9142.558203</td>\n",
       "      <td>NaN</td>\n",
       "      <td>91.088687</td>\n",
       "      <td>0.653720</td>\n",
       "      <td>NaN</td>\n",
       "      <td>NaN</td>\n",
       "      <td>5.860319</td>\n",
       "      <td>NaN</td>\n",
       "    </tr>\n",
       "    <tr>\n",
       "      <th>min</th>\n",
       "      <td>NaN</td>\n",
       "      <td>800.000000</td>\n",
       "      <td>NaN</td>\n",
       "      <td>0.000000</td>\n",
       "      <td>0.600000</td>\n",
       "      <td>NaN</td>\n",
       "      <td>NaN</td>\n",
       "      <td>1989.000000</td>\n",
       "      <td>NaN</td>\n",
       "    </tr>\n",
       "    <tr>\n",
       "      <th>25%</th>\n",
       "      <td>NaN</td>\n",
       "      <td>6800.000000</td>\n",
       "      <td>NaN</td>\n",
       "      <td>107.000000</td>\n",
       "      <td>1.800000</td>\n",
       "      <td>NaN</td>\n",
       "      <td>NaN</td>\n",
       "      <td>2003.000000</td>\n",
       "      <td>NaN</td>\n",
       "    </tr>\n",
       "    <tr>\n",
       "      <th>50%</th>\n",
       "      <td>NaN</td>\n",
       "      <td>10500.000000</td>\n",
       "      <td>NaN</td>\n",
       "      <td>165.000000</td>\n",
       "      <td>2.000000</td>\n",
       "      <td>NaN</td>\n",
       "      <td>NaN</td>\n",
       "      <td>2007.000000</td>\n",
       "      <td>NaN</td>\n",
       "    </tr>\n",
       "    <tr>\n",
       "      <th>75%</th>\n",
       "      <td>NaN</td>\n",
       "      <td>17500.000000</td>\n",
       "      <td>NaN</td>\n",
       "      <td>232.000000</td>\n",
       "      <td>2.500000</td>\n",
       "      <td>NaN</td>\n",
       "      <td>NaN</td>\n",
       "      <td>2011.000000</td>\n",
       "      <td>NaN</td>\n",
       "    </tr>\n",
       "    <tr>\n",
       "      <th>max</th>\n",
       "      <td>NaN</td>\n",
       "      <td>44000.000000</td>\n",
       "      <td>NaN</td>\n",
       "      <td>432.000000</td>\n",
       "      <td>4.200000</td>\n",
       "      <td>NaN</td>\n",
       "      <td>NaN</td>\n",
       "      <td>2016.000000</td>\n",
       "      <td>NaN</td>\n",
       "    </tr>\n",
       "  </tbody>\n",
       "</table>\n",
       "</div>"
      ],
      "text/plain": [
       "             Brand         Price   Body      Mileage      EngineV Engine Type  \\\n",
       "count         3345   3345.000000   3345  3345.000000  3345.000000        3345   \n",
       "unique           7           NaN      6          NaN          NaN           4   \n",
       "top     Volkswagen           NaN  sedan          NaN          NaN      Diesel   \n",
       "freq           813           NaN   1296          NaN          NaN        1574   \n",
       "mean           NaN  13099.139181    NaN   170.463677     2.228978         NaN   \n",
       "std            NaN   9142.558203    NaN    91.088687     0.653720         NaN   \n",
       "min            NaN    800.000000    NaN     0.000000     0.600000         NaN   \n",
       "25%            NaN   6800.000000    NaN   107.000000     1.800000         NaN   \n",
       "50%            NaN  10500.000000    NaN   165.000000     2.000000         NaN   \n",
       "75%            NaN  17500.000000    NaN   232.000000     2.500000         NaN   \n",
       "max            NaN  44000.000000    NaN   432.000000     4.200000         NaN   \n",
       "\n",
       "       Registration         Year    Model  \n",
       "count          3345  3345.000000     3345  \n",
       "unique            2          NaN      232  \n",
       "top             yes          NaN  E-Class  \n",
       "freq           2989          NaN      175  \n",
       "mean            NaN  2006.217937      NaN  \n",
       "std             NaN     5.860319      NaN  \n",
       "min             NaN  1989.000000      NaN  \n",
       "25%             NaN  2003.000000      NaN  \n",
       "50%             NaN  2007.000000      NaN  \n",
       "75%             NaN  2011.000000      NaN  \n",
       "max             NaN  2016.000000      NaN  "
      ]
     },
     "execution_count": 24,
     "metadata": {},
     "output_type": "execute_result"
    }
   ],
   "source": [
    "data_clean.describe(include='all')"
   ]
  },
  {
   "cell_type": "markdown",
   "metadata": {},
   "source": [
    "# Relaxing The Assumptions"
   ]
  },
  {
   "cell_type": "code",
   "execution_count": 25,
   "metadata": {},
   "outputs": [
    {
     "data": {
      "image/png": "[encoded data removed]",
      "text/plain": [
       "<Figure size 1080x216 with 3 Axes>"
      ]
     },
     "metadata": {},
     "output_type": "display_data"
    }
   ],
   "source": [
    "f, (ax1, ax2, ax3) = plt.subplots(1, 3, sharey=True, figsize =(15,3))\n",
    "ax1.scatter(data_clean['Year'],data_clean['Price'])\n",
    "ax1.set_title('Price and Year')\n",
    "ax2.scatter(data_clean['EngineV'],data_clean['Price'])\n",
    "ax2.set_title('Price and EngineV')\n",
    "ax3.scatter(data_clean['Mileage'],data_clean['Price'])\n",
    "ax3.set_title('Price and Mileage')\n",
    "plt.show()"
   ]
  },
  {
   "cell_type": "code",
   "execution_count": 26,
   "metadata": {},
   "outputs": [
    {
     "data": {
      "text/html": [
       "<div>\n",
       "<style scoped>\n",
       "    .dataframe tbody tr th:only-of-type {\n",
       "        vertical-align: middle;\n",
       "    }\n",
       "\n",
       "    .dataframe tbody tr th {\n",
       "        vertical-align: top;\n",
       "    }\n",
       "\n",
       "    .dataframe thead th {\n",
       "        text-align: right;\n",
       "    }\n",
       "</style>\n",
       "<table border=\"1\" class=\"dataframe\">\n",
       "  <thead>\n",
       "    <tr style=\"text-align: right;\">\n",
       "      <th></th>\n",
       "      <th>Brand</th>\n",
       "      <th>Price</th>\n",
       "      <th>Body</th>\n",
       "      <th>Mileage</th>\n",
       "      <th>EngineV</th>\n",
       "      <th>Engine Type</th>\n",
       "      <th>Registration</th>\n",
       "      <th>Year</th>\n",
       "      <th>Model</th>\n",
       "      <th>log_price</th>\n",
       "    </tr>\n",
       "  </thead>\n",
       "  <tbody>\n",
       "    <tr>\n",
       "      <th>count</th>\n",
       "      <td>3345</td>\n",
       "      <td>3345.000000</td>\n",
       "      <td>3345</td>\n",
       "      <td>3345.000000</td>\n",
       "      <td>3345.000000</td>\n",
       "      <td>3345</td>\n",
       "      <td>3345</td>\n",
       "      <td>3345.000000</td>\n",
       "      <td>3345</td>\n",
       "      <td>3345.000000</td>\n",
       "    </tr>\n",
       "    <tr>\n",
       "      <th>unique</th>\n",
       "      <td>7</td>\n",
       "      <td>NaN</td>\n",
       "      <td>6</td>\n",
       "      <td>NaN</td>\n",
       "      <td>NaN</td>\n",
       "      <td>4</td>\n",
       "      <td>2</td>\n",
       "      <td>NaN</td>\n",
       "      <td>232</td>\n",
       "      <td>NaN</td>\n",
       "    </tr>\n",
       "    <tr>\n",
       "      <th>top</th>\n",
       "      <td>Volkswagen</td>\n",
       "      <td>NaN</td>\n",
       "      <td>sedan</td>\n",
       "      <td>NaN</td>\n",
       "      <td>NaN</td>\n",
       "      <td>Diesel</td>\n",
       "      <td>yes</td>\n",
       "      <td>NaN</td>\n",
       "      <td>E-Class</td>\n",
       "      <td>NaN</td>\n",
       "    </tr>\n",
       "    <tr>\n",
       "      <th>freq</th>\n",
       "      <td>813</td>\n",
       "      <td>NaN</td>\n",
       "      <td>1296</td>\n",
       "      <td>NaN</td>\n",
       "      <td>NaN</td>\n",
       "      <td>1574</td>\n",
       "      <td>2989</td>\n",
       "      <td>NaN</td>\n",
       "      <td>175</td>\n",
       "      <td>NaN</td>\n",
       "    </tr>\n",
       "    <tr>\n",
       "      <th>mean</th>\n",
       "      <td>NaN</td>\n",
       "      <td>13099.139181</td>\n",
       "      <td>NaN</td>\n",
       "      <td>170.463677</td>\n",
       "      <td>2.228978</td>\n",
       "      <td>NaN</td>\n",
       "      <td>NaN</td>\n",
       "      <td>2006.217937</td>\n",
       "      <td>NaN</td>\n",
       "      <td>9.237109</td>\n",
       "    </tr>\n",
       "    <tr>\n",
       "      <th>std</th>\n",
       "      <td>NaN</td>\n",
       "      <td>9142.558203</td>\n",
       "      <td>NaN</td>\n",
       "      <td>91.088687</td>\n",
       "      <td>0.653720</td>\n",
       "      <td>NaN</td>\n",
       "      <td>NaN</td>\n",
       "      <td>5.860319</td>\n",
       "      <td>NaN</td>\n",
       "      <td>0.726794</td>\n",
       "    </tr>\n",
       "    <tr>\n",
       "      <th>min</th>\n",
       "      <td>NaN</td>\n",
       "      <td>800.000000</td>\n",
       "      <td>NaN</td>\n",
       "      <td>0.000000</td>\n",
       "      <td>0.600000</td>\n",
       "      <td>NaN</td>\n",
       "      <td>NaN</td>\n",
       "      <td>1989.000000</td>\n",
       "      <td>NaN</td>\n",
       "      <td>6.684612</td>\n",
       "    </tr>\n",
       "    <tr>\n",
       "      <th>25%</th>\n",
       "      <td>NaN</td>\n",
       "      <td>6800.000000</td>\n",
       "      <td>NaN</td>\n",
       "      <td>107.000000</td>\n",
       "      <td>1.800000</td>\n",
       "      <td>NaN</td>\n",
       "      <td>NaN</td>\n",
       "      <td>2003.000000</td>\n",
       "      <td>NaN</td>\n",
       "      <td>8.824678</td>\n",
       "    </tr>\n",
       "    <tr>\n",
       "      <th>50%</th>\n",
       "      <td>NaN</td>\n",
       "      <td>10500.000000</td>\n",
       "      <td>NaN</td>\n",
       "      <td>165.000000</td>\n",
       "      <td>2.000000</td>\n",
       "      <td>NaN</td>\n",
       "      <td>NaN</td>\n",
       "      <td>2007.000000</td>\n",
       "      <td>NaN</td>\n",
       "      <td>9.259131</td>\n",
       "    </tr>\n",
       "    <tr>\n",
       "      <th>75%</th>\n",
       "      <td>NaN</td>\n",
       "      <td>17500.000000</td>\n",
       "      <td>NaN</td>\n",
       "      <td>232.000000</td>\n",
       "      <td>2.500000</td>\n",
       "      <td>NaN</td>\n",
       "      <td>NaN</td>\n",
       "      <td>2011.000000</td>\n",
       "      <td>NaN</td>\n",
       "      <td>9.769956</td>\n",
       "    </tr>\n",
       "    <tr>\n",
       "      <th>max</th>\n",
       "      <td>NaN</td>\n",
       "      <td>44000.000000</td>\n",
       "      <td>NaN</td>\n",
       "      <td>432.000000</td>\n",
       "      <td>4.200000</td>\n",
       "      <td>NaN</td>\n",
       "      <td>NaN</td>\n",
       "      <td>2016.000000</td>\n",
       "      <td>NaN</td>\n",
       "      <td>10.691945</td>\n",
       "    </tr>\n",
       "  </tbody>\n",
       "</table>\n",
       "</div>"
      ],
      "text/plain": [
       "             Brand         Price   Body      Mileage      EngineV Engine Type  \\\n",
       "count         3345   3345.000000   3345  3345.000000  3345.000000        3345   \n",
       "unique           7           NaN      6          NaN          NaN           4   \n",
       "top     Volkswagen           NaN  sedan          NaN          NaN      Diesel   \n",
       "freq           813           NaN   1296          NaN          NaN        1574   \n",
       "mean           NaN  13099.139181    NaN   170.463677     2.228978         NaN   \n",
       "std            NaN   9142.558203    NaN    91.088687     0.653720         NaN   \n",
       "min            NaN    800.000000    NaN     0.000000     0.600000         NaN   \n",
       "25%            NaN   6800.000000    NaN   107.000000     1.800000         NaN   \n",
       "50%            NaN  10500.000000    NaN   165.000000     2.000000         NaN   \n",
       "75%            NaN  17500.000000    NaN   232.000000     2.500000         NaN   \n",
       "max            NaN  44000.000000    NaN   432.000000     4.200000         NaN   \n",
       "\n",
       "       Registration         Year    Model    log_price  \n",
       "count          3345  3345.000000     3345  3345.000000  \n",
       "unique            2          NaN      232          NaN  \n",
       "top             yes          NaN  E-Class          NaN  \n",
       "freq           2989          NaN      175          NaN  \n",
       "mean            NaN  2006.217937      NaN     9.237109  \n",
       "std             NaN     5.860319      NaN     0.726794  \n",
       "min             NaN  1989.000000      NaN     6.684612  \n",
       "25%             NaN  2003.000000      NaN     8.824678  \n",
       "50%             NaN  2007.000000      NaN     9.259131  \n",
       "75%             NaN  2011.000000      NaN     9.769956  \n",
       "max             NaN  2016.000000      NaN    10.691945  "
      ]
     },
     "execution_count": 26,
     "metadata": {},
     "output_type": "execute_result"
    }
   ],
   "source": [
    "log_price = np.log(data_clean['Price'])\n",
    "data_clean['log_price'] = log_price\n",
    "data_clean.describe(include = 'all')"
   ]
  },
  {
   "cell_type": "code",
   "execution_count": 27,
   "metadata": {},
   "outputs": [
    {
     "data": {
      "text/plain": [
       "Text(0.5, 1.0, 'Price and Mileage')"
      ]
     },
     "execution_count": 27,
     "metadata": {},
     "output_type": "execute_result"
    },
    {
     "data": {
      "image/png": "[encoded data removed]",
      "text/plain": [
       "<Figure size 1080x216 with 3 Axes>"
      ]
     },
     "metadata": {},
     "output_type": "display_data"
    }
   ],
   "source": [
    "f, (ax1, ax2, ax3) = plt.subplots(1,3,sharey=True, figsize = (15,3))\n",
    "ax1.scatter(data_clean['Year'], data_clean['log_price'])\n",
    "ax1.set_title('Price and Year')\n",
    "ax2.scatter(data_clean['EngineV'], data_clean['log_price'])\n",
    "ax2.set_title('Price and EngineV')\n",
    "ax3.scatter(data_clean['Mileage'], data_clean['log_price'])\n",
    "ax3.set_title('Price and Mileage')"
   ]
  },
  {
   "cell_type": "code",
   "execution_count": 28,
   "metadata": {},
   "outputs": [
    {
     "data": {
      "text/html": [
       "<div>\n",
       "<style scoped>\n",
       "    .dataframe tbody tr th:only-of-type {\n",
       "        vertical-align: middle;\n",
       "    }\n",
       "\n",
       "    .dataframe tbody tr th {\n",
       "        vertical-align: top;\n",
       "    }\n",
       "\n",
       "    .dataframe thead th {\n",
       "        text-align: right;\n",
       "    }\n",
       "</style>\n",
       "<table border=\"1\" class=\"dataframe\">\n",
       "  <thead>\n",
       "    <tr style=\"text-align: right;\">\n",
       "      <th></th>\n",
       "      <th>Brand</th>\n",
       "      <th>Body</th>\n",
       "      <th>Mileage</th>\n",
       "      <th>EngineV</th>\n",
       "      <th>Engine Type</th>\n",
       "      <th>Registration</th>\n",
       "      <th>Year</th>\n",
       "      <th>Model</th>\n",
       "      <th>log_price</th>\n",
       "    </tr>\n",
       "  </thead>\n",
       "  <tbody>\n",
       "    <tr>\n",
       "      <th>0</th>\n",
       "      <td>BMW</td>\n",
       "      <td>sedan</td>\n",
       "      <td>277</td>\n",
       "      <td>2.0</td>\n",
       "      <td>Petrol</td>\n",
       "      <td>yes</td>\n",
       "      <td>1991</td>\n",
       "      <td>320</td>\n",
       "      <td>8.342840</td>\n",
       "    </tr>\n",
       "    <tr>\n",
       "      <th>1</th>\n",
       "      <td>Mercedes-Benz</td>\n",
       "      <td>van</td>\n",
       "      <td>427</td>\n",
       "      <td>2.9</td>\n",
       "      <td>Diesel</td>\n",
       "      <td>yes</td>\n",
       "      <td>1999</td>\n",
       "      <td>Sprinter 212</td>\n",
       "      <td>8.974618</td>\n",
       "    </tr>\n",
       "    <tr>\n",
       "      <th>3</th>\n",
       "      <td>Audi</td>\n",
       "      <td>crossover</td>\n",
       "      <td>240</td>\n",
       "      <td>4.2</td>\n",
       "      <td>Petrol</td>\n",
       "      <td>yes</td>\n",
       "      <td>2007</td>\n",
       "      <td>Q7</td>\n",
       "      <td>10.043249</td>\n",
       "    </tr>\n",
       "    <tr>\n",
       "      <th>4</th>\n",
       "      <td>Toyota</td>\n",
       "      <td>crossover</td>\n",
       "      <td>120</td>\n",
       "      <td>2.0</td>\n",
       "      <td>Petrol</td>\n",
       "      <td>yes</td>\n",
       "      <td>2011</td>\n",
       "      <td>Rav 4</td>\n",
       "      <td>9.814656</td>\n",
       "    </tr>\n",
       "    <tr>\n",
       "      <th>7</th>\n",
       "      <td>Audi</td>\n",
       "      <td>vagon</td>\n",
       "      <td>200</td>\n",
       "      <td>2.7</td>\n",
       "      <td>Diesel</td>\n",
       "      <td>yes</td>\n",
       "      <td>2006</td>\n",
       "      <td>A6</td>\n",
       "      <td>9.560997</td>\n",
       "    </tr>\n",
       "    <tr>\n",
       "      <th>...</th>\n",
       "      <td>...</td>\n",
       "      <td>...</td>\n",
       "      <td>...</td>\n",
       "      <td>...</td>\n",
       "      <td>...</td>\n",
       "      <td>...</td>\n",
       "      <td>...</td>\n",
       "      <td>...</td>\n",
       "      <td>...</td>\n",
       "    </tr>\n",
       "    <tr>\n",
       "      <th>4337</th>\n",
       "      <td>Renault</td>\n",
       "      <td>sedan</td>\n",
       "      <td>152</td>\n",
       "      <td>1.6</td>\n",
       "      <td>Petrol</td>\n",
       "      <td>yes</td>\n",
       "      <td>2007</td>\n",
       "      <td>Megane</td>\n",
       "      <td>8.824678</td>\n",
       "    </tr>\n",
       "    <tr>\n",
       "      <th>4338</th>\n",
       "      <td>Volkswagen</td>\n",
       "      <td>van</td>\n",
       "      <td>163</td>\n",
       "      <td>2.5</td>\n",
       "      <td>Diesel</td>\n",
       "      <td>yes</td>\n",
       "      <td>2008</td>\n",
       "      <td>T5 (Transporter)</td>\n",
       "      <td>9.350102</td>\n",
       "    </tr>\n",
       "    <tr>\n",
       "      <th>4339</th>\n",
       "      <td>Toyota</td>\n",
       "      <td>sedan</td>\n",
       "      <td>35</td>\n",
       "      <td>1.6</td>\n",
       "      <td>Petrol</td>\n",
       "      <td>yes</td>\n",
       "      <td>2014</td>\n",
       "      <td>Corolla</td>\n",
       "      <td>9.792556</td>\n",
       "    </tr>\n",
       "    <tr>\n",
       "      <th>4341</th>\n",
       "      <td>BMW</td>\n",
       "      <td>sedan</td>\n",
       "      <td>1</td>\n",
       "      <td>3.5</td>\n",
       "      <td>Petrol</td>\n",
       "      <td>yes</td>\n",
       "      <td>1999</td>\n",
       "      <td>535</td>\n",
       "      <td>8.779557</td>\n",
       "    </tr>\n",
       "    <tr>\n",
       "      <th>4344</th>\n",
       "      <td>Volkswagen</td>\n",
       "      <td>van</td>\n",
       "      <td>124</td>\n",
       "      <td>2.0</td>\n",
       "      <td>Diesel</td>\n",
       "      <td>yes</td>\n",
       "      <td>2013</td>\n",
       "      <td>T5 (Transporter)</td>\n",
       "      <td>9.510445</td>\n",
       "    </tr>\n",
       "  </tbody>\n",
       "</table>\n",
       "<p>3345 rows × 9 columns</p>\n",
       "</div>"
      ],
      "text/plain": [
       "              Brand       Body  Mileage  EngineV Engine Type Registration  \\\n",
       "0               BMW      sedan      277      2.0      Petrol          yes   \n",
       "1     Mercedes-Benz        van      427      2.9      Diesel          yes   \n",
       "3              Audi  crossover      240      4.2      Petrol          yes   \n",
       "4            Toyota  crossover      120      2.0      Petrol          yes   \n",
       "7              Audi      vagon      200      2.7      Diesel          yes   \n",
       "...             ...        ...      ...      ...         ...          ...   \n",
       "4337        Renault      sedan      152      1.6      Petrol          yes   \n",
       "4338     Volkswagen        van      163      2.5      Diesel          yes   \n",
       "4339         Toyota      sedan       35      1.6      Petrol          yes   \n",
       "4341            BMW      sedan        1      3.5      Petrol          yes   \n",
       "4344     Volkswagen        van      124      2.0      Diesel          yes   \n",
       "\n",
       "      Year              Model  log_price  \n",
       "0     1991                320   8.342840  \n",
       "1     1999       Sprinter 212   8.974618  \n",
       "3     2007                 Q7  10.043249  \n",
       "4     2011              Rav 4   9.814656  \n",
       "7     2006                 A6   9.560997  \n",
       "...    ...                ...        ...  \n",
       "4337  2007             Megane   8.824678  \n",
       "4338  2008   T5 (Transporter)   9.350102  \n",
       "4339  2014            Corolla   9.792556  \n",
       "4341  1999                535   8.779557  \n",
       "4344  2013  T5 (Transporter)    9.510445  \n",
       "\n",
       "[3345 rows x 9 columns]"
      ]
     },
     "execution_count": 28,
     "metadata": {},
     "output_type": "execute_result"
    }
   ],
   "source": [
    "data_clean = data_clean.drop(['Price'], axis = 1)\n",
    "data_clean"
   ]
  },
  {
   "cell_type": "markdown",
   "metadata": {},
   "source": [
    "# Multicollinearity and Variance Inflation Factor"
   ]
  },
  {
   "cell_type": "code",
   "execution_count": 29,
   "metadata": {},
   "outputs": [],
   "source": [
    "from statsmodels.stats.outliers_influence import variance_inflation_factor\n",
    "variables = data_clean[['Mileage','Year','EngineV']]\n",
    "vif = pd.DataFrame()\n",
    "vif[\"VIF\"] = [variance_inflation_factor(variables.values, i) for i in range(variables.shape[1])]\n",
    "vif[\"features\"] = variables.columns"
   ]
  },
  {
   "cell_type": "code",
   "execution_count": 30,
   "metadata": {},
   "outputs": [
    {
     "data": {
      "text/html": [
       "<div>\n",
       "<style scoped>\n",
       "    .dataframe tbody tr th:only-of-type {\n",
       "        vertical-align: middle;\n",
       "    }\n",
       "\n",
       "    .dataframe tbody tr th {\n",
       "        vertical-align: top;\n",
       "    }\n",
       "\n",
       "    .dataframe thead th {\n",
       "        text-align: right;\n",
       "    }\n",
       "</style>\n",
       "<table border=\"1\" class=\"dataframe\">\n",
       "  <thead>\n",
       "    <tr style=\"text-align: right;\">\n",
       "      <th></th>\n",
       "      <th>VIF</th>\n",
       "      <th>features</th>\n",
       "    </tr>\n",
       "  </thead>\n",
       "  <tbody>\n",
       "    <tr>\n",
       "      <th>0</th>\n",
       "      <td>4.599495</td>\n",
       "      <td>Mileage</td>\n",
       "    </tr>\n",
       "    <tr>\n",
       "      <th>1</th>\n",
       "      <td>14.306217</td>\n",
       "      <td>Year</td>\n",
       "    </tr>\n",
       "    <tr>\n",
       "      <th>2</th>\n",
       "      <td>12.954622</td>\n",
       "      <td>EngineV</td>\n",
       "    </tr>\n",
       "  </tbody>\n",
       "</table>\n",
       "</div>"
      ],
      "text/plain": [
       "         VIF features\n",
       "0   4.599495  Mileage\n",
       "1  14.306217     Year\n",
       "2  12.954622  EngineV"
      ]
     },
     "execution_count": 30,
     "metadata": {},
     "output_type": "execute_result"
    }
   ],
   "source": [
    "vif"
   ]
  },
  {
   "cell_type": "code",
   "execution_count": 31,
   "metadata": {},
   "outputs": [],
   "source": [
    "data_no_multicol = data_clean.drop(columns = ['EngineV', 'Year']) "
   ]
  },
  {
   "cell_type": "code",
   "execution_count": 32,
   "metadata": {},
   "outputs": [
    {
     "data": {
      "text/html": [
       "<div>\n",
       "<style scoped>\n",
       "    .dataframe tbody tr th:only-of-type {\n",
       "        vertical-align: middle;\n",
       "    }\n",
       "\n",
       "    .dataframe tbody tr th {\n",
       "        vertical-align: top;\n",
       "    }\n",
       "\n",
       "    .dataframe thead th {\n",
       "        text-align: right;\n",
       "    }\n",
       "</style>\n",
       "<table border=\"1\" class=\"dataframe\">\n",
       "  <thead>\n",
       "    <tr style=\"text-align: right;\">\n",
       "      <th></th>\n",
       "      <th>Brand</th>\n",
       "      <th>Body</th>\n",
       "      <th>Mileage</th>\n",
       "      <th>Engine Type</th>\n",
       "      <th>Registration</th>\n",
       "      <th>Model</th>\n",
       "      <th>log_price</th>\n",
       "    </tr>\n",
       "  </thead>\n",
       "  <tbody>\n",
       "    <tr>\n",
       "      <th>0</th>\n",
       "      <td>BMW</td>\n",
       "      <td>sedan</td>\n",
       "      <td>277</td>\n",
       "      <td>Petrol</td>\n",
       "      <td>yes</td>\n",
       "      <td>320</td>\n",
       "      <td>8.342840</td>\n",
       "    </tr>\n",
       "    <tr>\n",
       "      <th>1</th>\n",
       "      <td>Mercedes-Benz</td>\n",
       "      <td>van</td>\n",
       "      <td>427</td>\n",
       "      <td>Diesel</td>\n",
       "      <td>yes</td>\n",
       "      <td>Sprinter 212</td>\n",
       "      <td>8.974618</td>\n",
       "    </tr>\n",
       "    <tr>\n",
       "      <th>3</th>\n",
       "      <td>Audi</td>\n",
       "      <td>crossover</td>\n",
       "      <td>240</td>\n",
       "      <td>Petrol</td>\n",
       "      <td>yes</td>\n",
       "      <td>Q7</td>\n",
       "      <td>10.043249</td>\n",
       "    </tr>\n",
       "    <tr>\n",
       "      <th>4</th>\n",
       "      <td>Toyota</td>\n",
       "      <td>crossover</td>\n",
       "      <td>120</td>\n",
       "      <td>Petrol</td>\n",
       "      <td>yes</td>\n",
       "      <td>Rav 4</td>\n",
       "      <td>9.814656</td>\n",
       "    </tr>\n",
       "    <tr>\n",
       "      <th>7</th>\n",
       "      <td>Audi</td>\n",
       "      <td>vagon</td>\n",
       "      <td>200</td>\n",
       "      <td>Diesel</td>\n",
       "      <td>yes</td>\n",
       "      <td>A6</td>\n",
       "      <td>9.560997</td>\n",
       "    </tr>\n",
       "    <tr>\n",
       "      <th>...</th>\n",
       "      <td>...</td>\n",
       "      <td>...</td>\n",
       "      <td>...</td>\n",
       "      <td>...</td>\n",
       "      <td>...</td>\n",
       "      <td>...</td>\n",
       "      <td>...</td>\n",
       "    </tr>\n",
       "    <tr>\n",
       "      <th>4337</th>\n",
       "      <td>Renault</td>\n",
       "      <td>sedan</td>\n",
       "      <td>152</td>\n",
       "      <td>Petrol</td>\n",
       "      <td>yes</td>\n",
       "      <td>Megane</td>\n",
       "      <td>8.824678</td>\n",
       "    </tr>\n",
       "    <tr>\n",
       "      <th>4338</th>\n",
       "      <td>Volkswagen</td>\n",
       "      <td>van</td>\n",
       "      <td>163</td>\n",
       "      <td>Diesel</td>\n",
       "      <td>yes</td>\n",
       "      <td>T5 (Transporter)</td>\n",
       "      <td>9.350102</td>\n",
       "    </tr>\n",
       "    <tr>\n",
       "      <th>4339</th>\n",
       "      <td>Toyota</td>\n",
       "      <td>sedan</td>\n",
       "      <td>35</td>\n",
       "      <td>Petrol</td>\n",
       "      <td>yes</td>\n",
       "      <td>Corolla</td>\n",
       "      <td>9.792556</td>\n",
       "    </tr>\n",
       "    <tr>\n",
       "      <th>4341</th>\n",
       "      <td>BMW</td>\n",
       "      <td>sedan</td>\n",
       "      <td>1</td>\n",
       "      <td>Petrol</td>\n",
       "      <td>yes</td>\n",
       "      <td>535</td>\n",
       "      <td>8.779557</td>\n",
       "    </tr>\n",
       "    <tr>\n",
       "      <th>4344</th>\n",
       "      <td>Volkswagen</td>\n",
       "      <td>van</td>\n",
       "      <td>124</td>\n",
       "      <td>Diesel</td>\n",
       "      <td>yes</td>\n",
       "      <td>T5 (Transporter)</td>\n",
       "      <td>9.510445</td>\n",
       "    </tr>\n",
       "  </tbody>\n",
       "</table>\n",
       "<p>3345 rows × 7 columns</p>\n",
       "</div>"
      ],
      "text/plain": [
       "              Brand       Body  Mileage Engine Type Registration  \\\n",
       "0               BMW      sedan      277      Petrol          yes   \n",
       "1     Mercedes-Benz        van      427      Diesel          yes   \n",
       "3              Audi  crossover      240      Petrol          yes   \n",
       "4            Toyota  crossover      120      Petrol          yes   \n",
       "7              Audi      vagon      200      Diesel          yes   \n",
       "...             ...        ...      ...         ...          ...   \n",
       "4337        Renault      sedan      152      Petrol          yes   \n",
       "4338     Volkswagen        van      163      Diesel          yes   \n",
       "4339         Toyota      sedan       35      Petrol          yes   \n",
       "4341            BMW      sedan        1      Petrol          yes   \n",
       "4344     Volkswagen        van      124      Diesel          yes   \n",
       "\n",
       "                  Model  log_price  \n",
       "0                   320   8.342840  \n",
       "1          Sprinter 212   8.974618  \n",
       "3                    Q7  10.043249  \n",
       "4                 Rav 4   9.814656  \n",
       "7                    A6   9.560997  \n",
       "...                 ...        ...  \n",
       "4337             Megane   8.824678  \n",
       "4338   T5 (Transporter)   9.350102  \n",
       "4339            Corolla   9.792556  \n",
       "4341                535   8.779557  \n",
       "4344  T5 (Transporter)    9.510445  \n",
       "\n",
       "[3345 rows x 7 columns]"
      ]
     },
     "execution_count": 32,
     "metadata": {},
     "output_type": "execute_result"
    }
   ],
   "source": [
    "data_no_multicol"
   ]
  },
  {
   "cell_type": "markdown",
   "metadata": {},
   "source": [
    "# Dealing with dummies variables"
   ]
  },
  {
   "cell_type": "code",
   "execution_count": 33,
   "metadata": {},
   "outputs": [],
   "source": [
    "data_with_dummies = pd.get_dummies(data_no_multicol, drop_first = True)"
   ]
  },
  {
   "cell_type": "code",
   "execution_count": 34,
   "metadata": {},
   "outputs": [
    {
     "data": {
      "text/html": [
       "<div>\n",
       "<style scoped>\n",
       "    .dataframe tbody tr th:only-of-type {\n",
       "        vertical-align: middle;\n",
       "    }\n",
       "\n",
       "    .dataframe tbody tr th {\n",
       "        vertical-align: top;\n",
       "    }\n",
       "\n",
       "    .dataframe thead th {\n",
       "        text-align: right;\n",
       "    }\n",
       "</style>\n",
       "<table border=\"1\" class=\"dataframe\">\n",
       "  <thead>\n",
       "    <tr style=\"text-align: right;\">\n",
       "      <th></th>\n",
       "      <th>Mileage</th>\n",
       "      <th>log_price</th>\n",
       "      <th>Brand_BMW</th>\n",
       "      <th>Brand_Mercedes-Benz</th>\n",
       "      <th>Brand_Mitsubishi</th>\n",
       "      <th>Brand_Renault</th>\n",
       "      <th>Brand_Toyota</th>\n",
       "      <th>Brand_Volkswagen</th>\n",
       "      <th>Body_hatch</th>\n",
       "      <th>Body_other</th>\n",
       "      <th>...</th>\n",
       "      <th>Model_Vista</th>\n",
       "      <th>Model_Vito</th>\n",
       "      <th>Model_X1</th>\n",
       "      <th>Model_X3</th>\n",
       "      <th>Model_X5</th>\n",
       "      <th>Model_X5 M</th>\n",
       "      <th>Model_X6</th>\n",
       "      <th>Model_Yaris</th>\n",
       "      <th>Model_Z3</th>\n",
       "      <th>Model_Z4</th>\n",
       "    </tr>\n",
       "  </thead>\n",
       "  <tbody>\n",
       "    <tr>\n",
       "      <th>0</th>\n",
       "      <td>277</td>\n",
       "      <td>8.342840</td>\n",
       "      <td>1</td>\n",
       "      <td>0</td>\n",
       "      <td>0</td>\n",
       "      <td>0</td>\n",
       "      <td>0</td>\n",
       "      <td>0</td>\n",
       "      <td>0</td>\n",
       "      <td>0</td>\n",
       "      <td>...</td>\n",
       "      <td>0</td>\n",
       "      <td>0</td>\n",
       "      <td>0</td>\n",
       "      <td>0</td>\n",
       "      <td>0</td>\n",
       "      <td>0</td>\n",
       "      <td>0</td>\n",
       "      <td>0</td>\n",
       "      <td>0</td>\n",
       "      <td>0</td>\n",
       "    </tr>\n",
       "    <tr>\n",
       "      <th>1</th>\n",
       "      <td>427</td>\n",
       "      <td>8.974618</td>\n",
       "      <td>0</td>\n",
       "      <td>1</td>\n",
       "      <td>0</td>\n",
       "      <td>0</td>\n",
       "      <td>0</td>\n",
       "      <td>0</td>\n",
       "      <td>0</td>\n",
       "      <td>0</td>\n",
       "      <td>...</td>\n",
       "      <td>0</td>\n",
       "      <td>0</td>\n",
       "      <td>0</td>\n",
       "      <td>0</td>\n",
       "      <td>0</td>\n",
       "      <td>0</td>\n",
       "      <td>0</td>\n",
       "      <td>0</td>\n",
       "      <td>0</td>\n",
       "      <td>0</td>\n",
       "    </tr>\n",
       "    <tr>\n",
       "      <th>3</th>\n",
       "      <td>240</td>\n",
       "      <td>10.043249</td>\n",
       "      <td>0</td>\n",
       "      <td>0</td>\n",
       "      <td>0</td>\n",
       "      <td>0</td>\n",
       "      <td>0</td>\n",
       "      <td>0</td>\n",
       "      <td>0</td>\n",
       "      <td>0</td>\n",
       "      <td>...</td>\n",
       "      <td>0</td>\n",
       "      <td>0</td>\n",
       "      <td>0</td>\n",
       "      <td>0</td>\n",
       "      <td>0</td>\n",
       "      <td>0</td>\n",
       "      <td>0</td>\n",
       "      <td>0</td>\n",
       "      <td>0</td>\n",
       "      <td>0</td>\n",
       "    </tr>\n",
       "    <tr>\n",
       "      <th>4</th>\n",
       "      <td>120</td>\n",
       "      <td>9.814656</td>\n",
       "      <td>0</td>\n",
       "      <td>0</td>\n",
       "      <td>0</td>\n",
       "      <td>0</td>\n",
       "      <td>1</td>\n",
       "      <td>0</td>\n",
       "      <td>0</td>\n",
       "      <td>0</td>\n",
       "      <td>...</td>\n",
       "      <td>0</td>\n",
       "      <td>0</td>\n",
       "      <td>0</td>\n",
       "      <td>0</td>\n",
       "      <td>0</td>\n",
       "      <td>0</td>\n",
       "      <td>0</td>\n",
       "      <td>0</td>\n",
       "      <td>0</td>\n",
       "      <td>0</td>\n",
       "    </tr>\n",
       "    <tr>\n",
       "      <th>7</th>\n",
       "      <td>200</td>\n",
       "      <td>9.560997</td>\n",
       "      <td>0</td>\n",
       "      <td>0</td>\n",
       "      <td>0</td>\n",
       "      <td>0</td>\n",
       "      <td>0</td>\n",
       "      <td>0</td>\n",
       "      <td>0</td>\n",
       "      <td>0</td>\n",
       "      <td>...</td>\n",
       "      <td>0</td>\n",
       "      <td>0</td>\n",
       "      <td>0</td>\n",
       "      <td>0</td>\n",
       "      <td>0</td>\n",
       "      <td>0</td>\n",
       "      <td>0</td>\n",
       "      <td>0</td>\n",
       "      <td>0</td>\n",
       "      <td>0</td>\n",
       "    </tr>\n",
       "    <tr>\n",
       "      <th>...</th>\n",
       "      <td>...</td>\n",
       "      <td>...</td>\n",
       "      <td>...</td>\n",
       "      <td>...</td>\n",
       "      <td>...</td>\n",
       "      <td>...</td>\n",
       "      <td>...</td>\n",
       "      <td>...</td>\n",
       "      <td>...</td>\n",
       "      <td>...</td>\n",
       "      <td>...</td>\n",
       "      <td>...</td>\n",
       "      <td>...</td>\n",
       "      <td>...</td>\n",
       "      <td>...</td>\n",
       "      <td>...</td>\n",
       "      <td>...</td>\n",
       "      <td>...</td>\n",
       "      <td>...</td>\n",
       "      <td>...</td>\n",
       "      <td>...</td>\n",
       "    </tr>\n",
       "    <tr>\n",
       "      <th>4337</th>\n",
       "      <td>152</td>\n",
       "      <td>8.824678</td>\n",
       "      <td>0</td>\n",
       "      <td>0</td>\n",
       "      <td>0</td>\n",
       "      <td>1</td>\n",
       "      <td>0</td>\n",
       "      <td>0</td>\n",
       "      <td>0</td>\n",
       "      <td>0</td>\n",
       "      <td>...</td>\n",
       "      <td>0</td>\n",
       "      <td>0</td>\n",
       "      <td>0</td>\n",
       "      <td>0</td>\n",
       "      <td>0</td>\n",
       "      <td>0</td>\n",
       "      <td>0</td>\n",
       "      <td>0</td>\n",
       "      <td>0</td>\n",
       "      <td>0</td>\n",
       "    </tr>\n",
       "    <tr>\n",
       "      <th>4338</th>\n",
       "      <td>163</td>\n",
       "      <td>9.350102</td>\n",
       "      <td>0</td>\n",
       "      <td>0</td>\n",
       "      <td>0</td>\n",
       "      <td>0</td>\n",
       "      <td>0</td>\n",
       "      <td>1</td>\n",
       "      <td>0</td>\n",
       "      <td>0</td>\n",
       "      <td>...</td>\n",
       "      <td>0</td>\n",
       "      <td>0</td>\n",
       "      <td>0</td>\n",
       "      <td>0</td>\n",
       "      <td>0</td>\n",
       "      <td>0</td>\n",
       "      <td>0</td>\n",
       "      <td>0</td>\n",
       "      <td>0</td>\n",
       "      <td>0</td>\n",
       "    </tr>\n",
       "    <tr>\n",
       "      <th>4339</th>\n",
       "      <td>35</td>\n",
       "      <td>9.792556</td>\n",
       "      <td>0</td>\n",
       "      <td>0</td>\n",
       "      <td>0</td>\n",
       "      <td>0</td>\n",
       "      <td>1</td>\n",
       "      <td>0</td>\n",
       "      <td>0</td>\n",
       "      <td>0</td>\n",
       "      <td>...</td>\n",
       "      <td>0</td>\n",
       "      <td>0</td>\n",
       "      <td>0</td>\n",
       "      <td>0</td>\n",
       "      <td>0</td>\n",
       "      <td>0</td>\n",
       "      <td>0</td>\n",
       "      <td>0</td>\n",
       "      <td>0</td>\n",
       "      <td>0</td>\n",
       "    </tr>\n",
       "    <tr>\n",
       "      <th>4341</th>\n",
       "      <td>1</td>\n",
       "      <td>8.779557</td>\n",
       "      <td>1</td>\n",
       "      <td>0</td>\n",
       "      <td>0</td>\n",
       "      <td>0</td>\n",
       "      <td>0</td>\n",
       "      <td>0</td>\n",
       "      <td>0</td>\n",
       "      <td>0</td>\n",
       "      <td>...</td>\n",
       "      <td>0</td>\n",
       "      <td>0</td>\n",
       "      <td>0</td>\n",
       "      <td>0</td>\n",
       "      <td>0</td>\n",
       "      <td>0</td>\n",
       "      <td>0</td>\n",
       "      <td>0</td>\n",
       "      <td>0</td>\n",
       "      <td>0</td>\n",
       "    </tr>\n",
       "    <tr>\n",
       "      <th>4344</th>\n",
       "      <td>124</td>\n",
       "      <td>9.510445</td>\n",
       "      <td>0</td>\n",
       "      <td>0</td>\n",
       "      <td>0</td>\n",
       "      <td>0</td>\n",
       "      <td>0</td>\n",
       "      <td>1</td>\n",
       "      <td>0</td>\n",
       "      <td>0</td>\n",
       "      <td>...</td>\n",
       "      <td>0</td>\n",
       "      <td>0</td>\n",
       "      <td>0</td>\n",
       "      <td>0</td>\n",
       "      <td>0</td>\n",
       "      <td>0</td>\n",
       "      <td>0</td>\n",
       "      <td>0</td>\n",
       "      <td>0</td>\n",
       "      <td>0</td>\n",
       "    </tr>\n",
       "  </tbody>\n",
       "</table>\n",
       "<p>3345 rows × 248 columns</p>\n",
       "</div>"
      ],
      "text/plain": [
       "      Mileage  log_price  Brand_BMW  Brand_Mercedes-Benz  Brand_Mitsubishi  \\\n",
       "0         277   8.342840          1                    0                 0   \n",
       "1         427   8.974618          0                    1                 0   \n",
       "3         240  10.043249          0                    0                 0   \n",
       "4         120   9.814656          0                    0                 0   \n",
       "7         200   9.560997          0                    0                 0   \n",
       "...       ...        ...        ...                  ...               ...   \n",
       "4337      152   8.824678          0                    0                 0   \n",
       "4338      163   9.350102          0                    0                 0   \n",
       "4339       35   9.792556          0                    0                 0   \n",
       "4341        1   8.779557          1                    0                 0   \n",
       "4344      124   9.510445          0                    0                 0   \n",
       "\n",
       "      Brand_Renault  Brand_Toyota  Brand_Volkswagen  Body_hatch  Body_other  \\\n",
       "0                 0             0                 0           0           0   \n",
       "1                 0             0                 0           0           0   \n",
       "3                 0             0                 0           0           0   \n",
       "4                 0             1                 0           0           0   \n",
       "7                 0             0                 0           0           0   \n",
       "...             ...           ...               ...         ...         ...   \n",
       "4337              1             0                 0           0           0   \n",
       "4338              0             0                 1           0           0   \n",
       "4339              0             1                 0           0           0   \n",
       "4341              0             0                 0           0           0   \n",
       "4344              0             0                 1           0           0   \n",
       "\n",
       "      ...  Model_Vista  Model_Vito  Model_X1  Model_X3  Model_X5  Model_X5 M  \\\n",
       "0     ...            0           0         0         0         0           0   \n",
       "1     ...            0           0         0         0         0           0   \n",
       "3     ...            0           0         0         0         0           0   \n",
       "4     ...            0           0         0         0         0           0   \n",
       "7     ...            0           0         0         0         0           0   \n",
       "...   ...          ...         ...       ...       ...       ...         ...   \n",
       "4337  ...            0           0         0         0         0           0   \n",
       "4338  ...            0           0         0         0         0           0   \n",
       "4339  ...            0           0         0         0         0           0   \n",
       "4341  ...            0           0         0         0         0           0   \n",
       "4344  ...            0           0         0         0         0           0   \n",
       "\n",
       "      Model_X6  Model_Yaris  Model_Z3  Model_Z4  \n",
       "0            0            0         0         0  \n",
       "1            0            0         0         0  \n",
       "3            0            0         0         0  \n",
       "4            0            0         0         0  \n",
       "7            0            0         0         0  \n",
       "...        ...          ...       ...       ...  \n",
       "4337         0            0         0         0  \n",
       "4338         0            0         0         0  \n",
       "4339         0            0         0         0  \n",
       "4341         0            0         0         0  \n",
       "4344         0            0         0         0  \n",
       "\n",
       "[3345 rows x 248 columns]"
      ]
     },
     "execution_count": 34,
     "metadata": {},
     "output_type": "execute_result"
    }
   ],
   "source": [
    "data_with_dummies"
   ]
  },
  {
   "cell_type": "code",
   "execution_count": 35,
   "metadata": {},
   "outputs": [
    {
     "data": {
      "text/plain": [
       "array(['Mileage', 'log_price', 'Brand_BMW', 'Brand_Mercedes-Benz',\n",
       "       'Brand_Mitsubishi', 'Brand_Renault', 'Brand_Toyota',\n",
       "       'Brand_Volkswagen', 'Body_hatch', 'Body_other', 'Body_sedan',\n",
       "       'Body_vagon', 'Body_van', 'Engine Type_Gas', 'Engine Type_Other',\n",
       "       'Engine Type_Petrol', 'Registration_yes', 'Model_100', 'Model_116',\n",
       "       'Model_118', 'Model_120', 'Model_19', 'Model_190', 'Model_200',\n",
       "       'Model_210', 'Model_220', 'Model_230', 'Model_250', 'Model_316',\n",
       "       'Model_318', 'Model_320', 'Model_323', 'Model_325', 'Model_328',\n",
       "       'Model_330', 'Model_335', 'Model_428', 'Model_4Runner',\n",
       "       'Model_5 Series', 'Model_5 Series GT', 'Model_520', 'Model_523',\n",
       "       'Model_525', 'Model_528', 'Model_530', 'Model_535', 'Model_540',\n",
       "       'Model_630', 'Model_730', 'Model_735', 'Model_740', 'Model_80',\n",
       "       'Model_A 140', 'Model_A 150', 'Model_A 170', 'Model_A 180',\n",
       "       'Model_A1', 'Model_A3', 'Model_A4', 'Model_A4 Allroad', 'Model_A5',\n",
       "       'Model_A6', 'Model_A6 Allroad', 'Model_A7', 'Model_A8',\n",
       "       'Model_ASX', 'Model_Amarok', 'Model_Auris', 'Model_Avalon',\n",
       "       'Model_Avensis', 'Model_Aygo', 'Model_B 170', 'Model_B 180',\n",
       "       'Model_B 200', 'Model_Beetle', 'Model_Bora', 'Model_C-Class',\n",
       "       'Model_CL 180', 'Model_CLA 200', 'Model_CLA 220',\n",
       "       'Model_CLA-Class', 'Model_CLC 180', 'Model_CLC 200',\n",
       "       'Model_CLK 200', 'Model_CLK 220', 'Model_CLK 230', 'Model_CLK 240',\n",
       "       'Model_CLK 280', 'Model_CLK 320', 'Model_CLS 350', 'Model_Caddy',\n",
       "       'Model_Camry', 'Model_Captur', 'Model_Caravelle', 'Model_Carina',\n",
       "       'Model_Carisma', 'Model_Celica', 'Model_Clio', 'Model_Colt',\n",
       "       'Model_Corolla', 'Model_Corolla Verso', 'Model_Cross Touran',\n",
       "       'Model_Dokker', 'Model_Duster', 'Model_E-Class', 'Model_Eclipse',\n",
       "       'Model_Eos', 'Model_Espace', 'Model_FJ Cruiser', 'Model_Fluence',\n",
       "       'Model_Fortuner', 'Model_G 320', 'Model_GL 320', 'Model_GL 420',\n",
       "       'Model_GLK 220', 'Model_GLK 300', 'Model_Galant', 'Model_Golf GTI',\n",
       "       'Model_Golf II', 'Model_Golf III', 'Model_Golf IV',\n",
       "       'Model_Golf Plus', 'Model_Golf V', 'Model_Golf VI',\n",
       "       'Model_Golf VII', 'Model_Golf Variant', 'Model_Grand Scenic',\n",
       "       'Model_Grandis', 'Model_Hiace', 'Model_Highlander', 'Model_Hilux',\n",
       "       'Model_I3', 'Model_IQ', 'Model_Jetta', 'Model_Kangoo',\n",
       "       'Model_Koleos', 'Model_L 200', 'Model_LT', 'Model_Laguna',\n",
       "       'Model_Lancer', 'Model_Lancer Evolution', 'Model_Lancer X',\n",
       "       'Model_Lancer X Sportback', 'Model_Land Cruiser 100',\n",
       "       'Model_Land Cruiser 200', 'Model_Land Cruiser 80',\n",
       "       'Model_Land Cruiser Prado', 'Model_Latitude', 'Model_Logan',\n",
       "       'Model_Lupo', 'Model_M5', 'Model_ML 250', 'Model_ML 270',\n",
       "       'Model_ML 280', 'Model_ML 320', 'Model_ML 350', 'Model_ML 400',\n",
       "       'Model_Master', 'Model_Matrix', 'Model_Megane', 'Model_Modus',\n",
       "       'Model_Multivan', 'Model_New Beetle', 'Model_Outlander',\n",
       "       'Model_Outlander XL', 'Model_Pajero', 'Model_Pajero Pinin',\n",
       "       'Model_Pajero Sport', 'Model_Pajero Wagon', 'Model_Passat B3',\n",
       "       'Model_Passat B4', 'Model_Passat B5', 'Model_Passat B6',\n",
       "       'Model_Passat B7', 'Model_Passat B8', 'Model_Passat CC',\n",
       "       'Model_Phaeton', 'Model_Pointer', 'Model_Polo', 'Model_Previa',\n",
       "       'Model_Prius', 'Model_Q3', 'Model_Q5', 'Model_Q7', 'Model_R 320',\n",
       "       'Model_Rav 4', 'Model_S 140', 'Model_S 300', 'Model_S 320',\n",
       "       'Model_S 350', 'Model_S 400', 'Model_S4', 'Model_S5', 'Model_S8',\n",
       "       'Model_SLK 200', 'Model_SLK 350', 'Model_Sandero',\n",
       "       'Model_Sandero StepWay', 'Model_Scenic', 'Model_Scion',\n",
       "       'Model_Scirocco', 'Model_Sharan', 'Model_Sienna', 'Model_Smart',\n",
       "       'Model_Space Star', 'Model_Space Wagon', 'Model_Sprinter 208',\n",
       "       'Model_Sprinter 210', 'Model_Sprinter 211', 'Model_Sprinter 212',\n",
       "       'Model_Sprinter 213', 'Model_Sprinter 311', 'Model_Sprinter 312',\n",
       "       'Model_Sprinter 313', 'Model_Sprinter 315', 'Model_Sprinter 316',\n",
       "       'Model_Sprinter 318', 'Model_Sprinter 319', 'Model_Symbol',\n",
       "       'Model_Syncro', 'Model_T4 (Transporter)',\n",
       "       'Model_T4 (Transporter) ', 'Model_T5 (Transporter)',\n",
       "       'Model_T5 (Transporter) ', 'Model_T6 (Transporter)',\n",
       "       'Model_T6 (Transporter) ', 'Model_TT', 'Model_Tacoma',\n",
       "       'Model_Tiguan', 'Model_Touareg', 'Model_Touran', 'Model_Trafic',\n",
       "       'Model_Up', 'Model_Vaneo', 'Model_Vento', 'Model_Venza',\n",
       "       'Model_Viano', 'Model_Virage', 'Model_Vista', 'Model_Vito',\n",
       "       'Model_X1', 'Model_X3', 'Model_X5', 'Model_X5 M', 'Model_X6',\n",
       "       'Model_Yaris', 'Model_Z3', 'Model_Z4'], dtype=object)"
      ]
     },
     "execution_count": 35,
     "metadata": {},
     "output_type": "execute_result"
    }
   ],
   "source": [
    "data_with_dummies.columns.values"
   ]
  },
  {
   "cell_type": "code",
   "execution_count": 36,
   "metadata": {},
   "outputs": [],
   "source": [
    "dummies = ['log_price','Mileage', 'Brand_BMW', 'Brand_Mercedes-Benz',\n",
    "       'Brand_Mitsubishi', 'Brand_Renault', 'Brand_Toyota',\n",
    "       'Brand_Volkswagen', 'Body_hatch', 'Body_other', 'Body_sedan',\n",
    "       'Body_vagon', 'Body_van', 'Engine Type_Gas', 'Engine Type_Other',\n",
    "       'Engine Type_Petrol', 'Registration_yes', 'Model_100', 'Model_116',\n",
    "       'Model_118', 'Model_120', 'Model_19', 'Model_190', 'Model_200',\n",
    "       'Model_210', 'Model_220', 'Model_230', 'Model_250', 'Model_316',\n",
    "       'Model_318', 'Model_320', 'Model_323', 'Model_325', 'Model_328',\n",
    "       'Model_330', 'Model_335', 'Model_428', 'Model_4Runner',\n",
    "       'Model_5 Series', 'Model_5 Series GT', 'Model_520', 'Model_523',\n",
    "       'Model_525', 'Model_528', 'Model_530', 'Model_535', 'Model_540',\n",
    "       'Model_630', 'Model_730', 'Model_735', 'Model_740', 'Model_80',\n",
    "       'Model_A 140', 'Model_A 150', 'Model_A 170', 'Model_A 180',\n",
    "       'Model_A1', 'Model_A3', 'Model_A4', 'Model_A4 Allroad', 'Model_A5',\n",
    "       'Model_A6', 'Model_A6 Allroad', 'Model_A7', 'Model_A8',\n",
    "       'Model_ASX', 'Model_Amarok', 'Model_Auris', 'Model_Avalon',\n",
    "       'Model_Avensis', 'Model_Aygo', 'Model_B 170', 'Model_B 180',\n",
    "       'Model_B 200', 'Model_Beetle', 'Model_Bora', 'Model_C-Class',\n",
    "       'Model_CL 180', 'Model_CLA 200', 'Model_CLA 220',\n",
    "       'Model_CLA-Class', 'Model_CLC 180', 'Model_CLC 200',\n",
    "       'Model_CLK 200', 'Model_CLK 220', 'Model_CLK 230', 'Model_CLK 240',\n",
    "       'Model_CLK 280', 'Model_CLK 320', 'Model_CLS 350', 'Model_Caddy',\n",
    "       'Model_Camry', 'Model_Captur', 'Model_Caravelle', 'Model_Carina',\n",
    "       'Model_Carisma', 'Model_Celica', 'Model_Clio', 'Model_Colt',\n",
    "       'Model_Corolla', 'Model_Corolla Verso', 'Model_Cross Touran',\n",
    "       'Model_Dokker', 'Model_Duster', 'Model_E-Class', 'Model_Eclipse',\n",
    "       'Model_Eos', 'Model_Espace', 'Model_FJ Cruiser', 'Model_Fluence',\n",
    "       'Model_Fortuner', 'Model_G 320', 'Model_GL 320', 'Model_GL 420',\n",
    "       'Model_GLK 220', 'Model_GLK 300', 'Model_Galant', 'Model_Golf GTI',\n",
    "       'Model_Golf II', 'Model_Golf III', 'Model_Golf IV',\n",
    "       'Model_Golf Plus', 'Model_Golf V', 'Model_Golf VI',\n",
    "       'Model_Golf VII', 'Model_Golf Variant', 'Model_Grand Scenic',\n",
    "       'Model_Grandis', 'Model_Hiace', 'Model_Highlander', 'Model_Hilux',\n",
    "       'Model_I3', 'Model_IQ', 'Model_Jetta', 'Model_Kangoo',\n",
    "       'Model_Koleos', 'Model_L 200', 'Model_LT', 'Model_Laguna',\n",
    "       'Model_Lancer', 'Model_Lancer Evolution', 'Model_Lancer X',\n",
    "       'Model_Lancer X Sportback', 'Model_Land Cruiser 100',\n",
    "       'Model_Land Cruiser 200', 'Model_Land Cruiser 80',\n",
    "       'Model_Land Cruiser Prado', 'Model_Latitude', 'Model_Logan',\n",
    "       'Model_Lupo', 'Model_M5', 'Model_ML 250', 'Model_ML 270',\n",
    "       'Model_ML 280', 'Model_ML 320', 'Model_ML 350', 'Model_ML 400',\n",
    "       'Model_Master', 'Model_Matrix', 'Model_Megane', 'Model_Modus',\n",
    "       'Model_Multivan', 'Model_New Beetle', 'Model_Outlander',\n",
    "       'Model_Outlander XL', 'Model_Pajero', 'Model_Pajero Pinin',\n",
    "       'Model_Pajero Sport', 'Model_Pajero Wagon', 'Model_Passat B3',\n",
    "       'Model_Passat B4', 'Model_Passat B5', 'Model_Passat B6',\n",
    "       'Model_Passat B7', 'Model_Passat B8', 'Model_Passat CC',\n",
    "       'Model_Phaeton', 'Model_Pointer', 'Model_Polo', 'Model_Previa',\n",
    "       'Model_Prius', 'Model_Q3', 'Model_Q5', 'Model_Q7', 'Model_R 320',\n",
    "       'Model_Rav 4', 'Model_S 140', 'Model_S 300', 'Model_S 320',\n",
    "       'Model_S 350', 'Model_S 400', 'Model_S4', 'Model_S5', 'Model_S8',\n",
    "       'Model_SLK 200', 'Model_SLK 350', 'Model_Sandero',\n",
    "       'Model_Sandero StepWay', 'Model_Scenic', 'Model_Scion',\n",
    "       'Model_Scirocco', 'Model_Sharan', 'Model_Sienna', 'Model_Smart',\n",
    "       'Model_Space Star', 'Model_Space Wagon', 'Model_Sprinter 208',\n",
    "       'Model_Sprinter 210', 'Model_Sprinter 211', 'Model_Sprinter 212',\n",
    "       'Model_Sprinter 213', 'Model_Sprinter 311', 'Model_Sprinter 312',\n",
    "       'Model_Sprinter 313', 'Model_Sprinter 315', 'Model_Sprinter 316',\n",
    "       'Model_Sprinter 318', 'Model_Sprinter 319', 'Model_Symbol',\n",
    "       'Model_Syncro', 'Model_T4 (Transporter)',\n",
    "       'Model_T4 (Transporter) ', 'Model_T5 (Transporter)',\n",
    "       'Model_T5 (Transporter) ', 'Model_T6 (Transporter)',\n",
    "       'Model_T6 (Transporter) ', 'Model_TT', 'Model_Tacoma',\n",
    "       'Model_Tiguan', 'Model_Touareg', 'Model_Touran', 'Model_Trafic',\n",
    "       'Model_Up', 'Model_Vaneo', 'Model_Vento', 'Model_Venza',\n",
    "       'Model_Viano', 'Model_Virage', 'Model_Vista', 'Model_Vito',\n",
    "       'Model_X1', 'Model_X3', 'Model_X5', 'Model_X5 M', 'Model_X6',\n",
    "       'Model_Yaris', 'Model_Z3', 'Model_Z4']"
   ]
  },
  {
   "cell_type": "code",
   "execution_count": 37,
   "metadata": {},
   "outputs": [],
   "source": [
    "data = data_with_dummies[dummies]"
   ]
  },
  {
   "cell_type": "code",
   "execution_count": 38,
   "metadata": {},
   "outputs": [
    {
     "data": {
      "text/html": [
       "<div>\n",
       "<style scoped>\n",
       "    .dataframe tbody tr th:only-of-type {\n",
       "        vertical-align: middle;\n",
       "    }\n",
       "\n",
       "    .dataframe tbody tr th {\n",
       "        vertical-align: top;\n",
       "    }\n",
       "\n",
       "    .dataframe thead th {\n",
       "        text-align: right;\n",
       "    }\n",
       "</style>\n",
       "<table border=\"1\" class=\"dataframe\">\n",
       "  <thead>\n",
       "    <tr style=\"text-align: right;\">\n",
       "      <th></th>\n",
       "      <th>log_price</th>\n",
       "      <th>Mileage</th>\n",
       "      <th>Brand_BMW</th>\n",
       "      <th>Brand_Mercedes-Benz</th>\n",
       "      <th>Brand_Mitsubishi</th>\n",
       "      <th>Brand_Renault</th>\n",
       "      <th>Brand_Toyota</th>\n",
       "      <th>Brand_Volkswagen</th>\n",
       "      <th>Body_hatch</th>\n",
       "      <th>Body_other</th>\n",
       "      <th>...</th>\n",
       "      <th>Model_Vista</th>\n",
       "      <th>Model_Vito</th>\n",
       "      <th>Model_X1</th>\n",
       "      <th>Model_X3</th>\n",
       "      <th>Model_X5</th>\n",
       "      <th>Model_X5 M</th>\n",
       "      <th>Model_X6</th>\n",
       "      <th>Model_Yaris</th>\n",
       "      <th>Model_Z3</th>\n",
       "      <th>Model_Z4</th>\n",
       "    </tr>\n",
       "  </thead>\n",
       "  <tbody>\n",
       "    <tr>\n",
       "      <th>0</th>\n",
       "      <td>8.342840</td>\n",
       "      <td>277</td>\n",
       "      <td>1</td>\n",
       "      <td>0</td>\n",
       "      <td>0</td>\n",
       "      <td>0</td>\n",
       "      <td>0</td>\n",
       "      <td>0</td>\n",
       "      <td>0</td>\n",
       "      <td>0</td>\n",
       "      <td>...</td>\n",
       "      <td>0</td>\n",
       "      <td>0</td>\n",
       "      <td>0</td>\n",
       "      <td>0</td>\n",
       "      <td>0</td>\n",
       "      <td>0</td>\n",
       "      <td>0</td>\n",
       "      <td>0</td>\n",
       "      <td>0</td>\n",
       "      <td>0</td>\n",
       "    </tr>\n",
       "    <tr>\n",
       "      <th>1</th>\n",
       "      <td>8.974618</td>\n",
       "      <td>427</td>\n",
       "      <td>0</td>\n",
       "      <td>1</td>\n",
       "      <td>0</td>\n",
       "      <td>0</td>\n",
       "      <td>0</td>\n",
       "      <td>0</td>\n",
       "      <td>0</td>\n",
       "      <td>0</td>\n",
       "      <td>...</td>\n",
       "      <td>0</td>\n",
       "      <td>0</td>\n",
       "      <td>0</td>\n",
       "      <td>0</td>\n",
       "      <td>0</td>\n",
       "      <td>0</td>\n",
       "      <td>0</td>\n",
       "      <td>0</td>\n",
       "      <td>0</td>\n",
       "      <td>0</td>\n",
       "    </tr>\n",
       "    <tr>\n",
       "      <th>3</th>\n",
       "      <td>10.043249</td>\n",
       "      <td>240</td>\n",
       "      <td>0</td>\n",
       "      <td>0</td>\n",
       "      <td>0</td>\n",
       "      <td>0</td>\n",
       "      <td>0</td>\n",
       "      <td>0</td>\n",
       "      <td>0</td>\n",
       "      <td>0</td>\n",
       "      <td>...</td>\n",
       "      <td>0</td>\n",
       "      <td>0</td>\n",
       "      <td>0</td>\n",
       "      <td>0</td>\n",
       "      <td>0</td>\n",
       "      <td>0</td>\n",
       "      <td>0</td>\n",
       "      <td>0</td>\n",
       "      <td>0</td>\n",
       "      <td>0</td>\n",
       "    </tr>\n",
       "    <tr>\n",
       "      <th>4</th>\n",
       "      <td>9.814656</td>\n",
       "      <td>120</td>\n",
       "      <td>0</td>\n",
       "      <td>0</td>\n",
       "      <td>0</td>\n",
       "      <td>0</td>\n",
       "      <td>1</td>\n",
       "      <td>0</td>\n",
       "      <td>0</td>\n",
       "      <td>0</td>\n",
       "      <td>...</td>\n",
       "      <td>0</td>\n",
       "      <td>0</td>\n",
       "      <td>0</td>\n",
       "      <td>0</td>\n",
       "      <td>0</td>\n",
       "      <td>0</td>\n",
       "      <td>0</td>\n",
       "      <td>0</td>\n",
       "      <td>0</td>\n",
       "      <td>0</td>\n",
       "    </tr>\n",
       "    <tr>\n",
       "      <th>7</th>\n",
       "      <td>9.560997</td>\n",
       "      <td>200</td>\n",
       "      <td>0</td>\n",
       "      <td>0</td>\n",
       "      <td>0</td>\n",
       "      <td>0</td>\n",
       "      <td>0</td>\n",
       "      <td>0</td>\n",
       "      <td>0</td>\n",
       "      <td>0</td>\n",
       "      <td>...</td>\n",
       "      <td>0</td>\n",
       "      <td>0</td>\n",
       "      <td>0</td>\n",
       "      <td>0</td>\n",
       "      <td>0</td>\n",
       "      <td>0</td>\n",
       "      <td>0</td>\n",
       "      <td>0</td>\n",
       "      <td>0</td>\n",
       "      <td>0</td>\n",
       "    </tr>\n",
       "    <tr>\n",
       "      <th>...</th>\n",
       "      <td>...</td>\n",
       "      <td>...</td>\n",
       "      <td>...</td>\n",
       "      <td>...</td>\n",
       "      <td>...</td>\n",
       "      <td>...</td>\n",
       "      <td>...</td>\n",
       "      <td>...</td>\n",
       "      <td>...</td>\n",
       "      <td>...</td>\n",
       "      <td>...</td>\n",
       "      <td>...</td>\n",
       "      <td>...</td>\n",
       "      <td>...</td>\n",
       "      <td>...</td>\n",
       "      <td>...</td>\n",
       "      <td>...</td>\n",
       "      <td>...</td>\n",
       "      <td>...</td>\n",
       "      <td>...</td>\n",
       "      <td>...</td>\n",
       "    </tr>\n",
       "    <tr>\n",
       "      <th>4337</th>\n",
       "      <td>8.824678</td>\n",
       "      <td>152</td>\n",
       "      <td>0</td>\n",
       "      <td>0</td>\n",
       "      <td>0</td>\n",
       "      <td>1</td>\n",
       "      <td>0</td>\n",
       "      <td>0</td>\n",
       "      <td>0</td>\n",
       "      <td>0</td>\n",
       "      <td>...</td>\n",
       "      <td>0</td>\n",
       "      <td>0</td>\n",
       "      <td>0</td>\n",
       "      <td>0</td>\n",
       "      <td>0</td>\n",
       "      <td>0</td>\n",
       "      <td>0</td>\n",
       "      <td>0</td>\n",
       "      <td>0</td>\n",
       "      <td>0</td>\n",
       "    </tr>\n",
       "    <tr>\n",
       "      <th>4338</th>\n",
       "      <td>9.350102</td>\n",
       "      <td>163</td>\n",
       "      <td>0</td>\n",
       "      <td>0</td>\n",
       "      <td>0</td>\n",
       "      <td>0</td>\n",
       "      <td>0</td>\n",
       "      <td>1</td>\n",
       "      <td>0</td>\n",
       "      <td>0</td>\n",
       "      <td>...</td>\n",
       "      <td>0</td>\n",
       "      <td>0</td>\n",
       "      <td>0</td>\n",
       "      <td>0</td>\n",
       "      <td>0</td>\n",
       "      <td>0</td>\n",
       "      <td>0</td>\n",
       "      <td>0</td>\n",
       "      <td>0</td>\n",
       "      <td>0</td>\n",
       "    </tr>\n",
       "    <tr>\n",
       "      <th>4339</th>\n",
       "      <td>9.792556</td>\n",
       "      <td>35</td>\n",
       "      <td>0</td>\n",
       "      <td>0</td>\n",
       "      <td>0</td>\n",
       "      <td>0</td>\n",
       "      <td>1</td>\n",
       "      <td>0</td>\n",
       "      <td>0</td>\n",
       "      <td>0</td>\n",
       "      <td>...</td>\n",
       "      <td>0</td>\n",
       "      <td>0</td>\n",
       "      <td>0</td>\n",
       "      <td>0</td>\n",
       "      <td>0</td>\n",
       "      <td>0</td>\n",
       "      <td>0</td>\n",
       "      <td>0</td>\n",
       "      <td>0</td>\n",
       "      <td>0</td>\n",
       "    </tr>\n",
       "    <tr>\n",
       "      <th>4341</th>\n",
       "      <td>8.779557</td>\n",
       "      <td>1</td>\n",
       "      <td>1</td>\n",
       "      <td>0</td>\n",
       "      <td>0</td>\n",
       "      <td>0</td>\n",
       "      <td>0</td>\n",
       "      <td>0</td>\n",
       "      <td>0</td>\n",
       "      <td>0</td>\n",
       "      <td>...</td>\n",
       "      <td>0</td>\n",
       "      <td>0</td>\n",
       "      <td>0</td>\n",
       "      <td>0</td>\n",
       "      <td>0</td>\n",
       "      <td>0</td>\n",
       "      <td>0</td>\n",
       "      <td>0</td>\n",
       "      <td>0</td>\n",
       "      <td>0</td>\n",
       "    </tr>\n",
       "    <tr>\n",
       "      <th>4344</th>\n",
       "      <td>9.510445</td>\n",
       "      <td>124</td>\n",
       "      <td>0</td>\n",
       "      <td>0</td>\n",
       "      <td>0</td>\n",
       "      <td>0</td>\n",
       "      <td>0</td>\n",
       "      <td>1</td>\n",
       "      <td>0</td>\n",
       "      <td>0</td>\n",
       "      <td>...</td>\n",
       "      <td>0</td>\n",
       "      <td>0</td>\n",
       "      <td>0</td>\n",
       "      <td>0</td>\n",
       "      <td>0</td>\n",
       "      <td>0</td>\n",
       "      <td>0</td>\n",
       "      <td>0</td>\n",
       "      <td>0</td>\n",
       "      <td>0</td>\n",
       "    </tr>\n",
       "  </tbody>\n",
       "</table>\n",
       "<p>3345 rows × 248 columns</p>\n",
       "</div>"
      ],
      "text/plain": [
       "      log_price  Mileage  Brand_BMW  Brand_Mercedes-Benz  Brand_Mitsubishi  \\\n",
       "0      8.342840      277          1                    0                 0   \n",
       "1      8.974618      427          0                    1                 0   \n",
       "3     10.043249      240          0                    0                 0   \n",
       "4      9.814656      120          0                    0                 0   \n",
       "7      9.560997      200          0                    0                 0   \n",
       "...         ...      ...        ...                  ...               ...   \n",
       "4337   8.824678      152          0                    0                 0   \n",
       "4338   9.350102      163          0                    0                 0   \n",
       "4339   9.792556       35          0                    0                 0   \n",
       "4341   8.779557        1          1                    0                 0   \n",
       "4344   9.510445      124          0                    0                 0   \n",
       "\n",
       "      Brand_Renault  Brand_Toyota  Brand_Volkswagen  Body_hatch  Body_other  \\\n",
       "0                 0             0                 0           0           0   \n",
       "1                 0             0                 0           0           0   \n",
       "3                 0             0                 0           0           0   \n",
       "4                 0             1                 0           0           0   \n",
       "7                 0             0                 0           0           0   \n",
       "...             ...           ...               ...         ...         ...   \n",
       "4337              1             0                 0           0           0   \n",
       "4338              0             0                 1           0           0   \n",
       "4339              0             1                 0           0           0   \n",
       "4341              0             0                 0           0           0   \n",
       "4344              0             0                 1           0           0   \n",
       "\n",
       "      ...  Model_Vista  Model_Vito  Model_X1  Model_X3  Model_X5  Model_X5 M  \\\n",
       "0     ...            0           0         0         0         0           0   \n",
       "1     ...            0           0         0         0         0           0   \n",
       "3     ...            0           0         0         0         0           0   \n",
       "4     ...            0           0         0         0         0           0   \n",
       "7     ...            0           0         0         0         0           0   \n",
       "...   ...          ...         ...       ...       ...       ...         ...   \n",
       "4337  ...            0           0         0         0         0           0   \n",
       "4338  ...            0           0         0         0         0           0   \n",
       "4339  ...            0           0         0         0         0           0   \n",
       "4341  ...            0           0         0         0         0           0   \n",
       "4344  ...            0           0         0         0         0           0   \n",
       "\n",
       "      Model_X6  Model_Yaris  Model_Z3  Model_Z4  \n",
       "0            0            0         0         0  \n",
       "1            0            0         0         0  \n",
       "3            0            0         0         0  \n",
       "4            0            0         0         0  \n",
       "7            0            0         0         0  \n",
       "...        ...          ...       ...       ...  \n",
       "4337         0            0         0         0  \n",
       "4338         0            0         0         0  \n",
       "4339         0            0         0         0  \n",
       "4341         0            0         0         0  \n",
       "4344         0            0         0         0  \n",
       "\n",
       "[3345 rows x 248 columns]"
      ]
     },
     "execution_count": 38,
     "metadata": {},
     "output_type": "execute_result"
    }
   ],
   "source": [
    "data"
   ]
  },
  {
   "cell_type": "code",
   "execution_count": 39,
   "metadata": {},
   "outputs": [],
   "source": [
    "y = data['log_price']\n",
    "X = data.drop('log_price', axis = 1)"
   ]
  },
  {
   "cell_type": "markdown",
   "metadata": {},
   "source": [
    "# Backward Elimination"
   ]
  },
  {
   "cell_type": "code",
   "execution_count": 40,
   "metadata": {},
   "outputs": [],
   "source": [
    "import statsmodels.api as sm\n",
    "def backward_elimination(data, target,significance_level = 0.05):\n",
    "    features = data.columns.tolist()\n",
    "    while(len(features)>0):\n",
    "        features_with_constant = sm.add_constant(data[features])\n",
    "        p_values = sm.OLS(target, features_with_constant).fit().pvalues[1:]\n",
    "        max_p_value = p_values.max()\n",
    "        if(max_p_value >= significance_level):\n",
    "            excluded_feature = p_values.idxmax()\n",
    "            features.remove(excluded_feature)\n",
    "        else:\n",
    "            break \n",
    "    return features"
   ]
  },
  {
   "cell_type": "code",
   "execution_count": 41,
   "metadata": {},
   "outputs": [
    {
     "name": "stdout",
     "output_type": "stream",
     "text": [
      "['Mileage', 'Brand_Toyota', 'Brand_Volkswagen', 'Body_hatch', 'Body_sedan', 'Body_vagon', 'Body_van', 'Engine Type_Gas', 'Engine Type_Other', 'Engine Type_Petrol', 'Registration_yes', 'Model_100', 'Model_116', 'Model_118', 'Model_120', 'Model_19', 'Model_220', 'Model_320', 'Model_330', 'Model_335', 'Model_428', 'Model_4Runner', 'Model_5 Series GT', 'Model_520', 'Model_523', 'Model_528', 'Model_530', 'Model_535', 'Model_630', 'Model_730', 'Model_735', 'Model_740', 'Model_80', 'Model_A 180', 'Model_A1', 'Model_A3', 'Model_A4', 'Model_A4 Allroad', 'Model_A5', 'Model_A6', 'Model_A6 Allroad', 'Model_A7', 'Model_A8', 'Model_ASX', 'Model_Amarok', 'Model_Auris', 'Model_Avensis', 'Model_Aygo', 'Model_B 180', 'Model_B 200', 'Model_Bora', 'Model_C-Class', 'Model_CLA 200', 'Model_CLA 220', 'Model_CLA-Class', 'Model_CLK 220', 'Model_CLK 320', 'Model_CLS 350', 'Model_Caddy', 'Model_Caravelle', 'Model_Carina', 'Model_Clio', 'Model_Colt', 'Model_Corolla', 'Model_E-Class', 'Model_FJ Cruiser', 'Model_G 320', 'Model_GL 320', 'Model_GL 420', 'Model_GLK 220', 'Model_GLK 300', 'Model_Galant', 'Model_Golf II', 'Model_Golf III', 'Model_Golf IV', 'Model_Highlander', 'Model_Hilux', 'Model_I3', 'Model_Kangoo', 'Model_Lancer', 'Model_Land Cruiser 100', 'Model_Land Cruiser 200', 'Model_Land Cruiser 80', 'Model_Land Cruiser Prado', 'Model_Logan', 'Model_Lupo', 'Model_M5', 'Model_ML 250', 'Model_ML 270', 'Model_ML 280', 'Model_ML 320', 'Model_ML 350', 'Model_ML 400', 'Model_Multivan', 'Model_Outlander', 'Model_Outlander XL', 'Model_Pajero Sport', 'Model_Pajero Wagon', 'Model_Passat B3', 'Model_Passat B4', 'Model_Passat B5', 'Model_Passat B7', 'Model_Passat B8', 'Model_Passat CC', 'Model_Phaeton', 'Model_Pointer', 'Model_Polo', 'Model_Q3', 'Model_Q5', 'Model_Q7', 'Model_R 320', 'Model_S 320', 'Model_S 350', 'Model_S5', 'Model_Scirocco', 'Model_Smart', 'Model_Sprinter 313', 'Model_Sprinter 316', 'Model_Sprinter 318', 'Model_Sprinter 319', 'Model_Symbol', 'Model_T4 (Transporter)', 'Model_T4 (Transporter) ', 'Model_TT', 'Model_Tiguan', 'Model_Touareg', 'Model_Touran', 'Model_Vento', 'Model_Venza', 'Model_Viano', 'Model_Vito', 'Model_X1', 'Model_X3', 'Model_X5', 'Model_X5 M', 'Model_X6', 'Model_Yaris']\n"
     ]
    }
   ],
   "source": [
    "print(backward_elimination(X,y))"
   ]
  },
  {
   "cell_type": "code",
   "execution_count": 42,
   "metadata": {},
   "outputs": [],
   "source": [
    "backward = backward_elimination(X,y)"
   ]
  },
  {
   "cell_type": "code",
   "execution_count": 43,
   "metadata": {},
   "outputs": [],
   "source": [
    "X = data[backward]"
   ]
  },
  {
   "cell_type": "markdown",
   "metadata": {},
   "source": [
    "# Building the model"
   ]
  },
  {
   "cell_type": "markdown",
   "metadata": {},
   "source": [
    "## Traning the model"
   ]
  },
  {
   "cell_type": "code",
   "execution_count": 44,
   "metadata": {},
   "outputs": [
    {
     "data": {
      "text/plain": [
       "array([[ 1.16976383, -0.3861213 , -0.56664808, ..., -0.01729286,\n",
       "        -0.0648301 , -0.0648301 ],\n",
       "       [ 2.8167568 , -0.3861213 , -0.56664808, ..., -0.01729286,\n",
       "        -0.0648301 , -0.0648301 ],\n",
       "       [ 0.76350556, -0.3861213 , -0.56664808, ..., -0.01729286,\n",
       "        -0.0648301 , -0.0648301 ],\n",
       "       ...,\n",
       "       [-1.48738482,  2.5898597 , -0.56664808, ..., -0.01729286,\n",
       "        -0.0648301 , -0.0648301 ],\n",
       "       [-1.86070323, -0.3861213 , -0.56664808, ..., -0.01729286,\n",
       "        -0.0648301 , -0.0648301 ],\n",
       "       [-0.510169  , -0.3861213 ,  1.76476376, ..., -0.01729286,\n",
       "        -0.0648301 , -0.0648301 ]])"
      ]
     },
     "execution_count": 44,
     "metadata": {},
     "output_type": "execute_result"
    }
   ],
   "source": [
    "from sklearn.preprocessing import StandardScaler\n",
    "scaler = StandardScaler()\n",
    "scaler.fit_transform(X)"
   ]
  },
  {
   "cell_type": "code",
   "execution_count": 45,
   "metadata": {},
   "outputs": [],
   "source": [
    "from sklearn.model_selection import train_test_split\n",
    "X_train, X_test, y_train, y_test = train_test_split(X, y, test_size = 0.2, random_state = 0)"
   ]
  },
  {
   "cell_type": "code",
   "execution_count": 46,
   "metadata": {},
   "outputs": [
    {
     "data": {
      "text/plain": [
       "LinearRegression(copy_X=True, fit_intercept=True, n_jobs=None, normalize=False)"
      ]
     },
     "execution_count": 46,
     "metadata": {},
     "output_type": "execute_result"
    }
   ],
   "source": [
    "from sklearn.linear_model import LinearRegression\n",
    "lin_reg = LinearRegression()\n",
    "lin_reg.fit(X_train, y_train)"
   ]
  },
  {
   "cell_type": "code",
   "execution_count": 47,
   "metadata": {},
   "outputs": [],
   "source": [
    "y_pred = lin_reg.predict(X_train)"
   ]
  },
  {
   "cell_type": "code",
   "execution_count": 48,
   "metadata": {},
   "outputs": [
    {
     "data": {
      "text/plain": [
       "Text(0, 0.5, 'y_pred')"
      ]
     },
     "execution_count": 48,
     "metadata": {},
     "output_type": "execute_result"
    },
    {
     "data": {
      "image/png": "[encoded data removed]",
      "text/plain": [
       "<Figure size 432x288 with 1 Axes>"
      ]
     },
     "metadata": {},
     "output_type": "display_data"
    }
   ],
   "source": [
    "plt.scatter(y_train, y_pred)\n",
    "plt.xlabel('y_train')\n",
    "plt.ylabel('y_pred')"
   ]
  },
  {
   "cell_type": "code",
   "execution_count": 49,
   "metadata": {},
   "outputs": [
    {
     "data": {
      "text/plain": [
       "<matplotlib.axes._subplots.AxesSubplot at 0x1b349b8ff48>"
      ]
     },
     "execution_count": 49,
     "metadata": {},
     "output_type": "execute_result"
    },
    {
     "data": {
      "image/png": "[encoded data removed]",
      "text/plain": [
       "<Figure size 432x288 with 1 Axes>"
      ]
     },
     "metadata": {},
     "output_type": "display_data"
    }
   ],
   "source": [
    "sns.distplot(y_train - y_pred)"
   ]
  },
  {
   "cell_type": "code",
   "execution_count": 50,
   "metadata": {},
   "outputs": [],
   "source": [
    "def MSE(predict,target):\n",
    "    return ((predict - target) ** 2).mean()\n",
    "\n",
    "def MAE(predict, target):\n",
    "    return (abs(predict - target)).mean()\n",
    "\n",
    "def RMSE(predict, target):\n",
    "    return np.sqrt((abs(predict - target) ** 2).mean())\n",
    "\n",
    "def MAPE(predict, target):\n",
    "    return (abs((target - predict) / target).mean()) * 100"
   ]
  },
  {
   "cell_type": "code",
   "execution_count": 51,
   "metadata": {},
   "outputs": [
    {
     "name": "stdout",
     "output_type": "stream",
     "text": [
      "MSE =  0.11521849667780762\n",
      "MAE =  0.24103105392977586\n",
      "RMSE =  0.3394385020556855\n",
      "MAPE =  2.6662243076557024\n"
     ]
    }
   ],
   "source": [
    "print('MSE = ', MSE(y_pred, y_train))\n",
    "print('MAE = ', MAE(y_pred, y_train))\n",
    "print('RMSE = ', RMSE(y_pred, y_train))\n",
    "print('MAPE = ', MAPE(y_pred, y_train))"
   ]
  },
  {
   "cell_type": "code",
   "execution_count": 52,
   "metadata": {},
   "outputs": [
    {
     "data": {
      "text/plain": [
       "0.7797498182011946"
      ]
     },
     "execution_count": 52,
     "metadata": {},
     "output_type": "execute_result"
    }
   ],
   "source": [
    "lin_reg.score(X_train, y_train)"
   ]
  },
  {
   "cell_type": "code",
   "execution_count": 53,
   "metadata": {},
   "outputs": [
    {
     "data": {
      "text/plain": [
       "8.762455791805229"
      ]
     },
     "execution_count": 53,
     "metadata": {},
     "output_type": "execute_result"
    }
   ],
   "source": [
    "lin_reg.intercept_"
   ]
  },
  {
   "cell_type": "code",
   "execution_count": 54,
   "metadata": {},
   "outputs": [
    {
     "data": {
      "text/plain": [
       "array([-3.21290655e-03,  4.37555058e-01,  2.23196947e-01, -2.27400603e-01,\n",
       "       -4.21801300e-02, -1.10373375e-01, -4.58890188e-02, -2.41442765e-01,\n",
       "       -1.51514292e-01, -2.12530194e-01,  1.05167964e+00, -3.41149421e-01,\n",
       "        9.52494628e-01,  7.10587159e-01, -1.21047348e+00, -1.14902365e+00,\n",
       "        7.89556937e-01,  3.60208814e-01,  4.21877667e-01,  9.97283401e-01,\n",
       "        1.10720084e+00,  9.17916538e-01,  9.64750521e-01,  5.22015552e-01,\n",
       "        4.32333819e-01,  4.42384101e-01,  4.25094475e-01,  6.00226864e-01,\n",
       "        7.40956006e-01,  6.29320920e-01,  4.00928324e-01,  4.53792592e-01,\n",
       "       -5.86572023e-01,  7.19118138e-01,  5.88395716e-01,  5.27671595e-01,\n",
       "        1.98301764e-01,  1.05637277e+00,  9.87059479e-01,  3.80361057e-01,\n",
       "        4.59211220e-01,  9.63060835e-01,  7.05990932e-01,  3.63833446e-01,\n",
       "        5.23086006e-01, -1.27179496e-01, -1.66518682e-01, -6.07767352e-01,\n",
       "        5.09843921e-01,  5.69841952e-01, -4.40988289e-01,  3.46660110e-01,\n",
       "        9.22929832e-01,  9.95560046e-01,  9.66380986e-01,  8.49933943e-01,\n",
       "        6.50013173e-01,  9.05073289e-01, -3.49637576e-01,  5.54518765e-01,\n",
       "       -1.27425394e+00, -4.17783861e-01, -2.57191321e-01, -5.37872369e-01,\n",
       "        4.09812921e-01,  5.39071300e-01,  1.36627007e+00,  1.17020958e+00,\n",
       "        9.74879610e-01,  8.96033460e-01,  1.00923106e+00, -4.49788613e-01,\n",
       "       -1.06847597e+00, -7.83263262e-01, -3.80862489e-01,  5.48199064e-01,\n",
       "        2.95880342e-01,  1.03225777e+00, -5.31047574e-01, -2.93041119e-01,\n",
       "        4.22242070e-01,  7.58024578e-01,  6.07430954e-01,  4.51915383e-01,\n",
       "       -4.86514741e-01,  3.33066907e-16,  1.55431223e-15,  1.25643439e+00,\n",
       "        4.60362895e-01, -1.66533454e-16,  5.51972447e-01,  8.83902482e-01,\n",
       "        5.76212688e-01,  5.71421390e-01,  2.13340564e-01,  3.78168910e-01,\n",
       "        3.69036103e-01,  5.71092024e-01, -8.31162045e-01, -6.30218659e-01,\n",
       "       -2.18966058e-01,  3.89154056e-01,  5.70030213e-01,  5.00374114e-01,\n",
       "        4.35222577e-01, -7.64594280e-01, -3.03954965e-01,  1.03107921e+00,\n",
       "        9.47443241e-01,  1.01548927e+00,  7.22404402e-01,  6.76713141e-01,\n",
       "        1.01878977e+00,  0.00000000e+00,  3.61131744e-01, -1.01506789e+00,\n",
       "        6.35213590e-01,  6.71800746e-01,  1.24384694e+00,  7.32335932e-01,\n",
       "       -4.84182878e-01, -1.39190711e-01, -4.01311128e-01,  5.47927912e-01,\n",
       "        2.59738051e-01,  4.33109106e-01,  1.77442753e-01, -7.89491835e-01,\n",
       "        4.66178629e-01,  7.74220979e-01,  1.62161637e-01,  7.02322479e-01,\n",
       "        1.08975158e+00,  9.75724482e-01,  1.08744503e+00,  1.18027114e+00,\n",
       "       -6.16028890e-01])"
      ]
     },
     "execution_count": 54,
     "metadata": {},
     "output_type": "execute_result"
    }
   ],
   "source": [
    "lin_reg.coef_"
   ]
  },
  {
   "cell_type": "code",
   "execution_count": 55,
   "metadata": {},
   "outputs": [
    {
     "data": {
      "text/html": [
       "<div>\n",
       "<style scoped>\n",
       "    .dataframe tbody tr th:only-of-type {\n",
       "        vertical-align: middle;\n",
       "    }\n",
       "\n",
       "    .dataframe tbody tr th {\n",
       "        vertical-align: top;\n",
       "    }\n",
       "\n",
       "    .dataframe thead th {\n",
       "        text-align: right;\n",
       "    }\n",
       "</style>\n",
       "<table border=\"1\" class=\"dataframe\">\n",
       "  <thead>\n",
       "    <tr style=\"text-align: right;\">\n",
       "      <th></th>\n",
       "      <th>Features</th>\n",
       "      <th>Weights</th>\n",
       "    </tr>\n",
       "  </thead>\n",
       "  <tbody>\n",
       "    <tr>\n",
       "      <th>0</th>\n",
       "      <td>Mileage</td>\n",
       "      <td>-0.003213</td>\n",
       "    </tr>\n",
       "    <tr>\n",
       "      <th>1</th>\n",
       "      <td>Brand_Toyota</td>\n",
       "      <td>0.437555</td>\n",
       "    </tr>\n",
       "    <tr>\n",
       "      <th>2</th>\n",
       "      <td>Brand_Volkswagen</td>\n",
       "      <td>0.223197</td>\n",
       "    </tr>\n",
       "    <tr>\n",
       "      <th>3</th>\n",
       "      <td>Body_hatch</td>\n",
       "      <td>-0.227401</td>\n",
       "    </tr>\n",
       "    <tr>\n",
       "      <th>4</th>\n",
       "      <td>Body_sedan</td>\n",
       "      <td>-0.042180</td>\n",
       "    </tr>\n",
       "    <tr>\n",
       "      <th>...</th>\n",
       "      <td>...</td>\n",
       "      <td>...</td>\n",
       "    </tr>\n",
       "    <tr>\n",
       "      <th>132</th>\n",
       "      <td>Model_X3</td>\n",
       "      <td>1.089752</td>\n",
       "    </tr>\n",
       "    <tr>\n",
       "      <th>133</th>\n",
       "      <td>Model_X5</td>\n",
       "      <td>0.975724</td>\n",
       "    </tr>\n",
       "    <tr>\n",
       "      <th>134</th>\n",
       "      <td>Model_X5 M</td>\n",
       "      <td>1.087445</td>\n",
       "    </tr>\n",
       "    <tr>\n",
       "      <th>135</th>\n",
       "      <td>Model_X6</td>\n",
       "      <td>1.180271</td>\n",
       "    </tr>\n",
       "    <tr>\n",
       "      <th>136</th>\n",
       "      <td>Model_Yaris</td>\n",
       "      <td>-0.616029</td>\n",
       "    </tr>\n",
       "  </tbody>\n",
       "</table>\n",
       "<p>137 rows × 2 columns</p>\n",
       "</div>"
      ],
      "text/plain": [
       "             Features   Weights\n",
       "0             Mileage -0.003213\n",
       "1        Brand_Toyota  0.437555\n",
       "2    Brand_Volkswagen  0.223197\n",
       "3          Body_hatch -0.227401\n",
       "4          Body_sedan -0.042180\n",
       "..                ...       ...\n",
       "132          Model_X3  1.089752\n",
       "133          Model_X5  0.975724\n",
       "134        Model_X5 M  1.087445\n",
       "135          Model_X6  1.180271\n",
       "136       Model_Yaris -0.616029\n",
       "\n",
       "[137 rows x 2 columns]"
      ]
     },
     "execution_count": 55,
     "metadata": {},
     "output_type": "execute_result"
    }
   ],
   "source": [
    "reg_summary = pd.DataFrame(X.columns.values, columns=['Features'])\n",
    "reg_summary['Weights'] = lin_reg.coef_\n",
    "reg_summary"
   ]
  },
  {
   "cell_type": "markdown",
   "metadata": {},
   "source": [
    "## Testing the model"
   ]
  },
  {
   "cell_type": "code",
   "execution_count": 56,
   "metadata": {},
   "outputs": [
    {
     "data": {
      "text/plain": [
       "LinearRegression(copy_X=True, fit_intercept=True, n_jobs=None, normalize=False)"
      ]
     },
     "execution_count": 56,
     "metadata": {},
     "output_type": "execute_result"
    }
   ],
   "source": [
    "from sklearn.linear_model import LinearRegression\n",
    "lin_reg_test = LinearRegression()\n",
    "lin_reg_test.fit(X_test, y_test)"
   ]
  },
  {
   "cell_type": "code",
   "execution_count": 57,
   "metadata": {},
   "outputs": [
    {
     "data": {
      "image/png": "[encoded data removed]",
      "text/plain": [
       "<Figure size 432x288 with 1 Axes>"
      ]
     },
     "metadata": {},
     "output_type": "display_data"
    }
   ],
   "source": [
    "y_pred_test = lin_reg_test.predict(X_test)\n",
    "plt.scatter(y_test, y_pred_test)\n",
    "plt.xlabel('y_test')\n",
    "plt.ylabel('y_pred_test')\n",
    "plt.show()"
   ]
  },
  {
   "cell_type": "code",
   "execution_count": 58,
   "metadata": {},
   "outputs": [
    {
     "data": {
      "text/plain": [
       "<matplotlib.axes._subplots.AxesSubplot at 0x1b3475a59c8>"
      ]
     },
     "execution_count": 58,
     "metadata": {},
     "output_type": "execute_result"
    },
    {
     "data": {
      "image/png": "[encoded data removed]",
      "text/plain": [
       "<Figure size 432x288 with 1 Axes>"
      ]
     },
     "metadata": {},
     "output_type": "display_data"
    }
   ],
   "source": [
    "sns.distplot(y_test - y_pred_test)"
   ]
  },
  {
   "cell_type": "code",
   "execution_count": 59,
   "metadata": {},
   "outputs": [
    {
     "name": "stdout",
     "output_type": "stream",
     "text": [
      "MSE =  0.11812866141248123\n",
      "MAE =  0.23883361634192182\n",
      "RMSE =  0.3436985036517925\n",
      "MAPE =  2.6457907066500974\n"
     ]
    }
   ],
   "source": [
    "print('MSE = ', MSE(y_pred_test, y_test))\n",
    "print('MAE = ', MAE(y_pred_test, y_test))\n",
    "print('RMSE = ', RMSE(y_pred_test, y_test))\n",
    "print('MAPE = ', MAPE(y_pred_test, y_test))"
   ]
  },
  {
   "cell_type": "code",
   "execution_count": 60,
   "metadata": {},
   "outputs": [
    {
     "data": {
      "text/plain": [
       "0.7842302237699663"
      ]
     },
     "execution_count": 60,
     "metadata": {},
     "output_type": "execute_result"
    }
   ],
   "source": [
    "lin_reg_test.score(X_test, y_test)"
   ]
  },
  {
   "cell_type": "code",
   "execution_count": 61,
   "metadata": {},
   "outputs": [
    {
     "data": {
      "text/plain": [
       "8.746281222507296"
      ]
     },
     "execution_count": 61,
     "metadata": {},
     "output_type": "execute_result"
    }
   ],
   "source": [
    "lin_reg_test.intercept_"
   ]
  },
  {
   "cell_type": "code",
   "execution_count": 62,
   "metadata": {},
   "outputs": [
    {
     "data": {
      "text/plain": [
       "array([-2.72117921e-03,  3.94632843e-01,  2.39758250e-01, -2.74839408e-01,\n",
       "       -1.69265048e-01, -2.52208219e-01, -1.37314932e-01, -2.33928477e-01,\n",
       "       -4.05310702e-02, -1.70683860e-01,  1.06464096e+00, -5.51658711e-01,\n",
       "        4.29303214e-01, -5.19558679e+09, -4.67842196e+09, -2.01894094e+09,\n",
       "        5.32046242e-01,  1.79045301e-01,  5.65906085e-01,  6.13590390e-01,\n",
       "        1.65369772e+08,  5.88862938e+07,  9.82778757e-01,  9.41711481e-01,\n",
       "        4.82713959e-01,  2.65001034e-01,  4.90109585e-01,  1.26493776e+00,\n",
       "       -5.67658013e+05,  1.87710092e-01,  3.64399799e-01,  6.10935261e-01,\n",
       "       -5.05343188e-01, -9.74162015e+04,  4.04891865e-01,  4.97950663e-01,\n",
       "        2.34632211e-01,  1.27982987e+04,  9.20194359e-01,  3.66847837e-01,\n",
       "        6.10566832e-01,  1.87192349e+02,  1.83854066e-01,  4.44118953e-01,\n",
       "        4.21946129e-01, -3.46468855e-01, -3.23926991e-01, -2.39249627e+01,\n",
       "        5.54721683e-01, -4.29036994e+00, -5.01603385e-01,  4.98898035e-01,\n",
       "        1.00882885e+00, -3.00399798e-02,  3.87704786e-01, -9.13293393e-02,\n",
       "       -2.47905756e-03,  8.52242571e-01, -2.60965563e-01,  4.42945256e-01,\n",
       "       -6.29017828e-03,  9.31583345e-05, -2.39073193e-01, -3.16692916e-01,\n",
       "        2.82595105e-01,  3.21945249e-01, -1.26361847e-05,  1.01818582e+00,\n",
       "       -1.90734863e-06,  2.38418579e-07, -3.57627869e-07, -6.49368313e-01,\n",
       "        0.00000000e+00, -8.29162195e-01, -4.42646385e-01,  4.16422847e-01,\n",
       "        3.45902450e-01,  7.23957783e-09, -5.50907904e-01, -2.19932637e-01,\n",
       "       -1.48677159e-09, -8.75870487e-10, -6.72327906e-02,  4.49949049e-01,\n",
       "       -2.59516008e-01, -7.10469679e-01,  1.05023134e+00,  1.66533454e-16,\n",
       "        6.73864729e-01,  6.75731421e-01,  6.37160253e-01,  2.41813606e-01,\n",
       "        3.29235293e-01,  7.66546518e-01,  1.98737913e-01,  3.63306223e-01,\n",
       "        1.27456872e-01,  4.80635865e-01, -8.95926076e-01, -5.71172237e-01,\n",
       "       -1.45852202e-01,  3.75964166e-01,  7.98178095e-01,  4.71980977e-01,\n",
       "        8.02275925e-01,  1.80936677e-17, -2.33840114e-01,  9.32079781e-01,\n",
       "        8.78889457e-01,  9.48562163e-01,  0.00000000e+00,  9.54582868e-01,\n",
       "        0.00000000e+00,  1.10190123e+00,  6.85508857e-01,  0.00000000e+00,\n",
       "        2.26633678e-01,  0.00000000e+00,  0.00000000e+00,  0.00000000e+00,\n",
       "       -5.23962829e-01, -3.00659996e-01, -5.24903023e-01,  4.10491371e-01,\n",
       "        3.20239414e-01,  2.93310489e-01,  5.23236509e-01, -8.21518041e-01,\n",
       "        1.44255770e-01,  4.11764453e-01,  1.99259357e-01,  8.00422604e-01,\n",
       "        0.00000000e+00,  8.83342915e-01,  0.00000000e+00,  1.14881212e+00,\n",
       "       -4.88001171e-01])"
      ]
     },
     "execution_count": 62,
     "metadata": {},
     "output_type": "execute_result"
    }
   ],
   "source": [
    "lin_reg_test.coef_"
   ]
  },
  {
   "cell_type": "code",
   "execution_count": 63,
   "metadata": {},
   "outputs": [
    {
     "data": {
      "text/html": [
       "<div>\n",
       "<style scoped>\n",
       "    .dataframe tbody tr th:only-of-type {\n",
       "        vertical-align: middle;\n",
       "    }\n",
       "\n",
       "    .dataframe tbody tr th {\n",
       "        vertical-align: top;\n",
       "    }\n",
       "\n",
       "    .dataframe thead th {\n",
       "        text-align: right;\n",
       "    }\n",
       "</style>\n",
       "<table border=\"1\" class=\"dataframe\">\n",
       "  <thead>\n",
       "    <tr style=\"text-align: right;\">\n",
       "      <th></th>\n",
       "      <th>Features</th>\n",
       "      <th>Weights</th>\n",
       "    </tr>\n",
       "  </thead>\n",
       "  <tbody>\n",
       "    <tr>\n",
       "      <th>0</th>\n",
       "      <td>Mileage</td>\n",
       "      <td>-0.003213</td>\n",
       "    </tr>\n",
       "    <tr>\n",
       "      <th>1</th>\n",
       "      <td>Brand_Toyota</td>\n",
       "      <td>0.437555</td>\n",
       "    </tr>\n",
       "    <tr>\n",
       "      <th>2</th>\n",
       "      <td>Brand_Volkswagen</td>\n",
       "      <td>0.223197</td>\n",
       "    </tr>\n",
       "    <tr>\n",
       "      <th>3</th>\n",
       "      <td>Body_hatch</td>\n",
       "      <td>-0.227401</td>\n",
       "    </tr>\n",
       "    <tr>\n",
       "      <th>4</th>\n",
       "      <td>Body_sedan</td>\n",
       "      <td>-0.042180</td>\n",
       "    </tr>\n",
       "    <tr>\n",
       "      <th>...</th>\n",
       "      <td>...</td>\n",
       "      <td>...</td>\n",
       "    </tr>\n",
       "    <tr>\n",
       "      <th>132</th>\n",
       "      <td>Model_X3</td>\n",
       "      <td>1.089752</td>\n",
       "    </tr>\n",
       "    <tr>\n",
       "      <th>133</th>\n",
       "      <td>Model_X5</td>\n",
       "      <td>0.975724</td>\n",
       "    </tr>\n",
       "    <tr>\n",
       "      <th>134</th>\n",
       "      <td>Model_X5 M</td>\n",
       "      <td>1.087445</td>\n",
       "    </tr>\n",
       "    <tr>\n",
       "      <th>135</th>\n",
       "      <td>Model_X6</td>\n",
       "      <td>1.180271</td>\n",
       "    </tr>\n",
       "    <tr>\n",
       "      <th>136</th>\n",
       "      <td>Model_Yaris</td>\n",
       "      <td>-0.616029</td>\n",
       "    </tr>\n",
       "  </tbody>\n",
       "</table>\n",
       "<p>137 rows × 2 columns</p>\n",
       "</div>"
      ],
      "text/plain": [
       "             Features   Weights\n",
       "0             Mileage -0.003213\n",
       "1        Brand_Toyota  0.437555\n",
       "2    Brand_Volkswagen  0.223197\n",
       "3          Body_hatch -0.227401\n",
       "4          Body_sedan -0.042180\n",
       "..                ...       ...\n",
       "132          Model_X3  1.089752\n",
       "133          Model_X5  0.975724\n",
       "134        Model_X5 M  1.087445\n",
       "135          Model_X6  1.180271\n",
       "136       Model_Yaris -0.616029\n",
       "\n",
       "[137 rows x 2 columns]"
      ]
     },
     "execution_count": 63,
     "metadata": {},
     "output_type": "execute_result"
    }
   ],
   "source": [
    "reg_summary_test = pd.DataFrame(X.columns.values, columns=['Features'])\n",
    "reg_summary_test['Weights'] = lin_reg.coef_\n",
    "reg_summary_test"
   ]
  }
 ],
 "metadata": {
  "kernelspec": {
   "display_name": "Python 3",
   "language": "python",
   "name": "python3"
  },
  "language_info": {
   "codemirror_mode": {
    "name": "ipython",
    "version": 3
   },
   "file_extension": ".py",
   "mimetype": "text/x-python",
   "name": "python",
   "nbconvert_exporter": "python",
   "pygments_lexer": "ipython3",
   "version": "3.7.6"
  }
 },
 "nbformat": 4,
 "nbformat_minor": 4
}
